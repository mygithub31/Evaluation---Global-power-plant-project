{
 "cells": [
  {
   "cell_type": "markdown",
   "metadata": {},
   "source": [
    "# Introduction\n",
    "The Global Power Plant Database is a comprehensive, open source database of power plants around the world. It centralizes power plant data to make it easier to navigate, compare and draw insights for one’s own analysis. The database covers approximately 35,000 power plants from 167 countries and includes thermal plants (e.g. coal, gas, oil, nuclear, biomass, waste, geothermal) and renewables (e.g. hydro, wind, solar). Each power plant is geolocated and entries contain information \n",
    "on plant capacity, generation, ownership, and fuel type. It will be continuously updated as data becomes available."
   ]
  },
  {
   "cell_type": "code",
   "execution_count": 41,
   "metadata": {},
   "outputs": [],
   "source": [
    "# Importng important libraries\n",
    "import numpy as np\n",
    "import pandas as pd\n",
    "import seaborn as sns\n",
    "import matplotlib.pyplot as plt\n",
    "from sklearn.preprocessing import StandardScaler\n",
    "from sklearn.model_selection import train_test_split\n",
    "from sklearn.preprocessing import LabelEncoder\n",
    "\n",
    "import warnings\n",
    "warnings.filterwarnings('ignore')"
   ]
  },
  {
   "cell_type": "code",
   "execution_count": 73,
   "metadata": {},
   "outputs": [],
   "source": [
    "pd.set_option(\"display.max_columns\",None)\n",
    "pd.set_option(\"display.max_rows\",None)"
   ]
  },
  {
   "cell_type": "code",
   "execution_count": 3,
   "metadata": {},
   "outputs": [
    {
     "data": {
      "text/html": [
       "<div>\n",
       "<style scoped>\n",
       "    .dataframe tbody tr th:only-of-type {\n",
       "        vertical-align: middle;\n",
       "    }\n",
       "\n",
       "    .dataframe tbody tr th {\n",
       "        vertical-align: top;\n",
       "    }\n",
       "\n",
       "    .dataframe thead th {\n",
       "        text-align: right;\n",
       "    }\n",
       "</style>\n",
       "<table border=\"1\" class=\"dataframe\">\n",
       "  <thead>\n",
       "    <tr style=\"text-align: right;\">\n",
       "      <th></th>\n",
       "      <th>country</th>\n",
       "      <th>country_long</th>\n",
       "      <th>name</th>\n",
       "      <th>gppd_idnr</th>\n",
       "      <th>capacity_mw</th>\n",
       "      <th>latitude</th>\n",
       "      <th>longitude</th>\n",
       "      <th>primary_fuel</th>\n",
       "      <th>other_fuel1</th>\n",
       "      <th>other_fuel2</th>\n",
       "      <th>other_fuel3</th>\n",
       "      <th>commissioning_year</th>\n",
       "      <th>owner</th>\n",
       "      <th>source</th>\n",
       "      <th>url</th>\n",
       "      <th>geolocation_source</th>\n",
       "      <th>wepp_id</th>\n",
       "      <th>year_of_capacity_data</th>\n",
       "      <th>generation_gwh_2013</th>\n",
       "      <th>generation_gwh_2014</th>\n",
       "      <th>generation_gwh_2015</th>\n",
       "      <th>generation_gwh_2016</th>\n",
       "      <th>generation_gwh_2017</th>\n",
       "      <th>generation_data_source</th>\n",
       "      <th>estimated_generation_gwh</th>\n",
       "    </tr>\n",
       "  </thead>\n",
       "  <tbody>\n",
       "    <tr>\n",
       "      <th>0</th>\n",
       "      <td>IND</td>\n",
       "      <td>India</td>\n",
       "      <td>ACME Solar Tower</td>\n",
       "      <td>WRI1020239</td>\n",
       "      <td>2.5</td>\n",
       "      <td>28.1839</td>\n",
       "      <td>73.2407</td>\n",
       "      <td>Solar</td>\n",
       "      <td>NaN</td>\n",
       "      <td>NaN</td>\n",
       "      <td>NaN</td>\n",
       "      <td>2011.0</td>\n",
       "      <td>Solar Paces</td>\n",
       "      <td>National Renewable Energy Laboratory</td>\n",
       "      <td>http://www.nrel.gov/csp/solarpaces/project_det...</td>\n",
       "      <td>National Renewable Energy Laboratory</td>\n",
       "      <td>NaN</td>\n",
       "      <td>NaN</td>\n",
       "      <td>NaN</td>\n",
       "      <td>NaN</td>\n",
       "      <td>NaN</td>\n",
       "      <td>NaN</td>\n",
       "      <td>NaN</td>\n",
       "      <td>NaN</td>\n",
       "      <td>NaN</td>\n",
       "    </tr>\n",
       "    <tr>\n",
       "      <th>1</th>\n",
       "      <td>IND</td>\n",
       "      <td>India</td>\n",
       "      <td>ADITYA CEMENT WORKS</td>\n",
       "      <td>WRI1019881</td>\n",
       "      <td>98.0</td>\n",
       "      <td>24.7663</td>\n",
       "      <td>74.6090</td>\n",
       "      <td>Coal</td>\n",
       "      <td>NaN</td>\n",
       "      <td>NaN</td>\n",
       "      <td>NaN</td>\n",
       "      <td>NaN</td>\n",
       "      <td>Ultratech Cement ltd</td>\n",
       "      <td>Ultratech Cement ltd</td>\n",
       "      <td>http://www.ultratechcement.com/</td>\n",
       "      <td>WRI</td>\n",
       "      <td>NaN</td>\n",
       "      <td>NaN</td>\n",
       "      <td>NaN</td>\n",
       "      <td>NaN</td>\n",
       "      <td>NaN</td>\n",
       "      <td>NaN</td>\n",
       "      <td>NaN</td>\n",
       "      <td>NaN</td>\n",
       "      <td>NaN</td>\n",
       "    </tr>\n",
       "    <tr>\n",
       "      <th>2</th>\n",
       "      <td>IND</td>\n",
       "      <td>India</td>\n",
       "      <td>AES Saurashtra Windfarms</td>\n",
       "      <td>WRI1026669</td>\n",
       "      <td>39.2</td>\n",
       "      <td>21.9038</td>\n",
       "      <td>69.3732</td>\n",
       "      <td>Wind</td>\n",
       "      <td>NaN</td>\n",
       "      <td>NaN</td>\n",
       "      <td>NaN</td>\n",
       "      <td>NaN</td>\n",
       "      <td>AES</td>\n",
       "      <td>CDM</td>\n",
       "      <td>https://cdm.unfccc.int/Projects/DB/DNV-CUK1328...</td>\n",
       "      <td>WRI</td>\n",
       "      <td>NaN</td>\n",
       "      <td>NaN</td>\n",
       "      <td>NaN</td>\n",
       "      <td>NaN</td>\n",
       "      <td>NaN</td>\n",
       "      <td>NaN</td>\n",
       "      <td>NaN</td>\n",
       "      <td>NaN</td>\n",
       "      <td>NaN</td>\n",
       "    </tr>\n",
       "    <tr>\n",
       "      <th>3</th>\n",
       "      <td>IND</td>\n",
       "      <td>India</td>\n",
       "      <td>AGARTALA GT</td>\n",
       "      <td>IND0000001</td>\n",
       "      <td>135.0</td>\n",
       "      <td>23.8712</td>\n",
       "      <td>91.3602</td>\n",
       "      <td>Gas</td>\n",
       "      <td>NaN</td>\n",
       "      <td>NaN</td>\n",
       "      <td>NaN</td>\n",
       "      <td>2004.0</td>\n",
       "      <td>NaN</td>\n",
       "      <td>Central Electricity Authority</td>\n",
       "      <td>http://www.cea.nic.in/</td>\n",
       "      <td>WRI</td>\n",
       "      <td>NaN</td>\n",
       "      <td>2018.0</td>\n",
       "      <td>631.777928</td>\n",
       "      <td>617.789264</td>\n",
       "      <td>843.747</td>\n",
       "      <td>886.004428</td>\n",
       "      <td>663.774500</td>\n",
       "      <td>Central Electricity Authority</td>\n",
       "      <td>NaN</td>\n",
       "    </tr>\n",
       "    <tr>\n",
       "      <th>4</th>\n",
       "      <td>IND</td>\n",
       "      <td>India</td>\n",
       "      <td>AKALTARA TPP</td>\n",
       "      <td>IND0000002</td>\n",
       "      <td>1800.0</td>\n",
       "      <td>21.9603</td>\n",
       "      <td>82.4091</td>\n",
       "      <td>Coal</td>\n",
       "      <td>Oil</td>\n",
       "      <td>NaN</td>\n",
       "      <td>NaN</td>\n",
       "      <td>2015.0</td>\n",
       "      <td>NaN</td>\n",
       "      <td>Central Electricity Authority</td>\n",
       "      <td>http://www.cea.nic.in/</td>\n",
       "      <td>WRI</td>\n",
       "      <td>NaN</td>\n",
       "      <td>2018.0</td>\n",
       "      <td>1668.290000</td>\n",
       "      <td>3035.550000</td>\n",
       "      <td>5916.370</td>\n",
       "      <td>6243.000000</td>\n",
       "      <td>5385.579736</td>\n",
       "      <td>Central Electricity Authority</td>\n",
       "      <td>NaN</td>\n",
       "    </tr>\n",
       "  </tbody>\n",
       "</table>\n",
       "</div>"
      ],
      "text/plain": [
       "  country country_long                      name   gppd_idnr  capacity_mw  \\\n",
       "0     IND        India          ACME Solar Tower  WRI1020239          2.5   \n",
       "1     IND        India       ADITYA CEMENT WORKS  WRI1019881         98.0   \n",
       "2     IND        India  AES Saurashtra Windfarms  WRI1026669         39.2   \n",
       "3     IND        India               AGARTALA GT  IND0000001        135.0   \n",
       "4     IND        India              AKALTARA TPP  IND0000002       1800.0   \n",
       "\n",
       "   latitude  longitude primary_fuel other_fuel1 other_fuel2  other_fuel3  \\\n",
       "0   28.1839    73.2407        Solar         NaN         NaN          NaN   \n",
       "1   24.7663    74.6090         Coal         NaN         NaN          NaN   \n",
       "2   21.9038    69.3732         Wind         NaN         NaN          NaN   \n",
       "3   23.8712    91.3602          Gas         NaN         NaN          NaN   \n",
       "4   21.9603    82.4091         Coal         Oil         NaN          NaN   \n",
       "\n",
       "   commissioning_year                 owner  \\\n",
       "0              2011.0           Solar Paces   \n",
       "1                 NaN  Ultratech Cement ltd   \n",
       "2                 NaN                   AES   \n",
       "3              2004.0                   NaN   \n",
       "4              2015.0                   NaN   \n",
       "\n",
       "                                 source  \\\n",
       "0  National Renewable Energy Laboratory   \n",
       "1                  Ultratech Cement ltd   \n",
       "2                                   CDM   \n",
       "3         Central Electricity Authority   \n",
       "4         Central Electricity Authority   \n",
       "\n",
       "                                                 url  \\\n",
       "0  http://www.nrel.gov/csp/solarpaces/project_det...   \n",
       "1                    http://www.ultratechcement.com/   \n",
       "2  https://cdm.unfccc.int/Projects/DB/DNV-CUK1328...   \n",
       "3                             http://www.cea.nic.in/   \n",
       "4                             http://www.cea.nic.in/   \n",
       "\n",
       "                     geolocation_source  wepp_id  year_of_capacity_data  \\\n",
       "0  National Renewable Energy Laboratory      NaN                    NaN   \n",
       "1                                   WRI      NaN                    NaN   \n",
       "2                                   WRI      NaN                    NaN   \n",
       "3                                   WRI      NaN                 2018.0   \n",
       "4                                   WRI      NaN                 2018.0   \n",
       "\n",
       "   generation_gwh_2013  generation_gwh_2014  generation_gwh_2015  \\\n",
       "0                  NaN                  NaN                  NaN   \n",
       "1                  NaN                  NaN                  NaN   \n",
       "2                  NaN                  NaN                  NaN   \n",
       "3           631.777928           617.789264              843.747   \n",
       "4          1668.290000          3035.550000             5916.370   \n",
       "\n",
       "   generation_gwh_2016  generation_gwh_2017         generation_data_source  \\\n",
       "0                  NaN                  NaN                            NaN   \n",
       "1                  NaN                  NaN                            NaN   \n",
       "2                  NaN                  NaN                            NaN   \n",
       "3           886.004428           663.774500  Central Electricity Authority   \n",
       "4          6243.000000          5385.579736  Central Electricity Authority   \n",
       "\n",
       "   estimated_generation_gwh  \n",
       "0                       NaN  \n",
       "1                       NaN  \n",
       "2                       NaN  \n",
       "3                       NaN  \n",
       "4                       NaN  "
      ]
     },
     "execution_count": 3,
     "metadata": {},
     "output_type": "execute_result"
    }
   ],
   "source": [
    "df = pd.read_csv('/Users/juhimishra/Downloads/database_IND.csv')\n",
    "df.head()"
   ]
  },
  {
   "cell_type": "markdown",
   "metadata": {},
   "source": [
    "# EDA"
   ]
  },
  {
   "cell_type": "code",
   "execution_count": 4,
   "metadata": {},
   "outputs": [
    {
     "name": "stdout",
     "output_type": "stream",
     "text": [
      "No of Rows:  908\n",
      "No of Column:  25\n"
     ]
    }
   ],
   "source": [
    "print(\"No of Rows: \",df.shape[0])\n",
    "print(\"No of Column: \",df.shape[1])"
   ]
  },
  {
   "cell_type": "code",
   "execution_count": 5,
   "metadata": {
    "scrolled": true
   },
   "outputs": [
    {
     "name": "stdout",
     "output_type": "stream",
     "text": [
      "<class 'pandas.core.frame.DataFrame'>\n",
      "RangeIndex: 908 entries, 0 to 907\n",
      "Data columns (total 25 columns):\n",
      " #   Column                    Non-Null Count  Dtype  \n",
      "---  ------                    --------------  -----  \n",
      " 0   country                   908 non-null    object \n",
      " 1   country_long              908 non-null    object \n",
      " 2   name                      908 non-null    object \n",
      " 3   gppd_idnr                 908 non-null    object \n",
      " 4   capacity_mw               908 non-null    float64\n",
      " 5   latitude                  862 non-null    float64\n",
      " 6   longitude                 862 non-null    float64\n",
      " 7   primary_fuel              908 non-null    object \n",
      " 8   other_fuel1               199 non-null    object \n",
      " 9   other_fuel2               1 non-null      object \n",
      " 10  other_fuel3               0 non-null      float64\n",
      " 11  commissioning_year        528 non-null    float64\n",
      " 12  owner                     342 non-null    object \n",
      " 13  source                    908 non-null    object \n",
      " 14  url                       908 non-null    object \n",
      " 15  geolocation_source        889 non-null    object \n",
      " 16  wepp_id                   0 non-null      float64\n",
      " 17  year_of_capacity_data     520 non-null    float64\n",
      " 18  generation_gwh_2013       384 non-null    float64\n",
      " 19  generation_gwh_2014       401 non-null    float64\n",
      " 20  generation_gwh_2015       425 non-null    float64\n",
      " 21  generation_gwh_2016       437 non-null    float64\n",
      " 22  generation_gwh_2017       443 non-null    float64\n",
      " 23  generation_data_source    450 non-null    object \n",
      " 24  estimated_generation_gwh  0 non-null      float64\n",
      "dtypes: float64(13), object(12)\n",
      "memory usage: 177.5+ KB\n"
     ]
    }
   ],
   "source": [
    "df.info()"
   ]
  },
  {
   "cell_type": "markdown",
   "metadata": {},
   "source": [
    "here e can see that there are lot many missing data in almost most of the columns and most of the data are in object form"
   ]
  },
  {
   "cell_type": "code",
   "execution_count": 6,
   "metadata": {
    "scrolled": false
   },
   "outputs": [
    {
     "data": {
      "text/html": [
       "<div>\n",
       "<style scoped>\n",
       "    .dataframe tbody tr th:only-of-type {\n",
       "        vertical-align: middle;\n",
       "    }\n",
       "\n",
       "    .dataframe tbody tr th {\n",
       "        vertical-align: top;\n",
       "    }\n",
       "\n",
       "    .dataframe thead th {\n",
       "        text-align: right;\n",
       "    }\n",
       "</style>\n",
       "<table border=\"1\" class=\"dataframe\">\n",
       "  <thead>\n",
       "    <tr style=\"text-align: right;\">\n",
       "      <th></th>\n",
       "      <th>capacity_mw</th>\n",
       "      <th>latitude</th>\n",
       "      <th>longitude</th>\n",
       "      <th>other_fuel3</th>\n",
       "      <th>commissioning_year</th>\n",
       "      <th>wepp_id</th>\n",
       "      <th>year_of_capacity_data</th>\n",
       "      <th>generation_gwh_2013</th>\n",
       "      <th>generation_gwh_2014</th>\n",
       "      <th>generation_gwh_2015</th>\n",
       "      <th>generation_gwh_2016</th>\n",
       "      <th>generation_gwh_2017</th>\n",
       "      <th>estimated_generation_gwh</th>\n",
       "    </tr>\n",
       "  </thead>\n",
       "  <tbody>\n",
       "    <tr>\n",
       "      <th>count</th>\n",
       "      <td>908.000000</td>\n",
       "      <td>862.000000</td>\n",
       "      <td>862.000000</td>\n",
       "      <td>0.0</td>\n",
       "      <td>528.000000</td>\n",
       "      <td>0.0</td>\n",
       "      <td>520.0</td>\n",
       "      <td>384.000000</td>\n",
       "      <td>401.000000</td>\n",
       "      <td>425.000000</td>\n",
       "      <td>437.000000</td>\n",
       "      <td>443.000000</td>\n",
       "      <td>0.0</td>\n",
       "    </tr>\n",
       "    <tr>\n",
       "      <th>mean</th>\n",
       "      <td>321.046378</td>\n",
       "      <td>21.196189</td>\n",
       "      <td>77.447848</td>\n",
       "      <td>NaN</td>\n",
       "      <td>1996.876894</td>\n",
       "      <td>NaN</td>\n",
       "      <td>2018.0</td>\n",
       "      <td>2304.059202</td>\n",
       "      <td>2420.393316</td>\n",
       "      <td>2414.072373</td>\n",
       "      <td>2453.936292</td>\n",
       "      <td>2531.754458</td>\n",
       "      <td>NaN</td>\n",
       "    </tr>\n",
       "    <tr>\n",
       "      <th>std</th>\n",
       "      <td>580.221767</td>\n",
       "      <td>6.248627</td>\n",
       "      <td>4.907260</td>\n",
       "      <td>NaN</td>\n",
       "      <td>17.047817</td>\n",
       "      <td>NaN</td>\n",
       "      <td>0.0</td>\n",
       "      <td>3794.767492</td>\n",
       "      <td>4013.558173</td>\n",
       "      <td>4183.203199</td>\n",
       "      <td>4152.038216</td>\n",
       "      <td>4187.236364</td>\n",
       "      <td>NaN</td>\n",
       "    </tr>\n",
       "    <tr>\n",
       "      <th>min</th>\n",
       "      <td>0.000000</td>\n",
       "      <td>8.168900</td>\n",
       "      <td>68.644700</td>\n",
       "      <td>NaN</td>\n",
       "      <td>1927.000000</td>\n",
       "      <td>NaN</td>\n",
       "      <td>2018.0</td>\n",
       "      <td>0.000000</td>\n",
       "      <td>0.000000</td>\n",
       "      <td>0.000000</td>\n",
       "      <td>0.000000</td>\n",
       "      <td>0.000000</td>\n",
       "      <td>NaN</td>\n",
       "    </tr>\n",
       "    <tr>\n",
       "      <th>25%</th>\n",
       "      <td>16.837500</td>\n",
       "      <td>16.771575</td>\n",
       "      <td>74.258975</td>\n",
       "      <td>NaN</td>\n",
       "      <td>1988.000000</td>\n",
       "      <td>NaN</td>\n",
       "      <td>2018.0</td>\n",
       "      <td>244.458088</td>\n",
       "      <td>223.650436</td>\n",
       "      <td>174.174750</td>\n",
       "      <td>187.193669</td>\n",
       "      <td>177.643170</td>\n",
       "      <td>NaN</td>\n",
       "    </tr>\n",
       "    <tr>\n",
       "      <th>50%</th>\n",
       "      <td>60.000000</td>\n",
       "      <td>21.778300</td>\n",
       "      <td>76.719250</td>\n",
       "      <td>NaN</td>\n",
       "      <td>2000.000000</td>\n",
       "      <td>NaN</td>\n",
       "      <td>2018.0</td>\n",
       "      <td>797.063475</td>\n",
       "      <td>805.760000</td>\n",
       "      <td>701.027250</td>\n",
       "      <td>716.728350</td>\n",
       "      <td>807.601700</td>\n",
       "      <td>NaN</td>\n",
       "    </tr>\n",
       "    <tr>\n",
       "      <th>75%</th>\n",
       "      <td>388.125000</td>\n",
       "      <td>25.516375</td>\n",
       "      <td>79.441475</td>\n",
       "      <td>NaN</td>\n",
       "      <td>2011.250000</td>\n",
       "      <td>NaN</td>\n",
       "      <td>2018.0</td>\n",
       "      <td>2795.021500</td>\n",
       "      <td>3034.575000</td>\n",
       "      <td>3080.000000</td>\n",
       "      <td>3263.483000</td>\n",
       "      <td>3258.785000</td>\n",
       "      <td>NaN</td>\n",
       "    </tr>\n",
       "    <tr>\n",
       "      <th>max</th>\n",
       "      <td>4760.000000</td>\n",
       "      <td>34.649000</td>\n",
       "      <td>95.408000</td>\n",
       "      <td>NaN</td>\n",
       "      <td>2018.000000</td>\n",
       "      <td>NaN</td>\n",
       "      <td>2018.0</td>\n",
       "      <td>27586.200000</td>\n",
       "      <td>28127.000000</td>\n",
       "      <td>30539.000000</td>\n",
       "      <td>30015.000000</td>\n",
       "      <td>35116.000000</td>\n",
       "      <td>NaN</td>\n",
       "    </tr>\n",
       "  </tbody>\n",
       "</table>\n",
       "</div>"
      ],
      "text/plain": [
       "       capacity_mw    latitude   longitude  other_fuel3  commissioning_year  \\\n",
       "count   908.000000  862.000000  862.000000          0.0          528.000000   \n",
       "mean    321.046378   21.196189   77.447848          NaN         1996.876894   \n",
       "std     580.221767    6.248627    4.907260          NaN           17.047817   \n",
       "min       0.000000    8.168900   68.644700          NaN         1927.000000   \n",
       "25%      16.837500   16.771575   74.258975          NaN         1988.000000   \n",
       "50%      60.000000   21.778300   76.719250          NaN         2000.000000   \n",
       "75%     388.125000   25.516375   79.441475          NaN         2011.250000   \n",
       "max    4760.000000   34.649000   95.408000          NaN         2018.000000   \n",
       "\n",
       "       wepp_id  year_of_capacity_data  generation_gwh_2013  \\\n",
       "count      0.0                  520.0           384.000000   \n",
       "mean       NaN                 2018.0          2304.059202   \n",
       "std        NaN                    0.0          3794.767492   \n",
       "min        NaN                 2018.0             0.000000   \n",
       "25%        NaN                 2018.0           244.458088   \n",
       "50%        NaN                 2018.0           797.063475   \n",
       "75%        NaN                 2018.0          2795.021500   \n",
       "max        NaN                 2018.0         27586.200000   \n",
       "\n",
       "       generation_gwh_2014  generation_gwh_2015  generation_gwh_2016  \\\n",
       "count           401.000000           425.000000           437.000000   \n",
       "mean           2420.393316          2414.072373          2453.936292   \n",
       "std            4013.558173          4183.203199          4152.038216   \n",
       "min               0.000000             0.000000             0.000000   \n",
       "25%             223.650436           174.174750           187.193669   \n",
       "50%             805.760000           701.027250           716.728350   \n",
       "75%            3034.575000          3080.000000          3263.483000   \n",
       "max           28127.000000         30539.000000         30015.000000   \n",
       "\n",
       "       generation_gwh_2017  estimated_generation_gwh  \n",
       "count           443.000000                       0.0  \n",
       "mean           2531.754458                       NaN  \n",
       "std            4187.236364                       NaN  \n",
       "min               0.000000                       NaN  \n",
       "25%             177.643170                       NaN  \n",
       "50%             807.601700                       NaN  \n",
       "75%            3258.785000                       NaN  \n",
       "max           35116.000000                       NaN  "
      ]
     },
     "execution_count": 6,
     "metadata": {},
     "output_type": "execute_result"
    }
   ],
   "source": [
    "df.describe()"
   ]
  },
  {
   "cell_type": "markdown",
   "metadata": {},
   "source": [
    "Here we got all the continous data information .analysis for the same mentioned below from this static data:\n",
    "1. Missing values in most of the column\n",
    "2. generation growth from 2013 to 2017 are mentioned for every plant.\n",
    "3. In 2018 the capacity information was reported \n",
    "4. fuel3, wepp id and estmated generation growth is nil here\n",
    "5. chances of skewness are high as in capacity_mw we can see differenced between mean and std are high also quantile data \n",
    "   are having huge differnces from 50% to 75% and 75% to max"
   ]
  },
  {
   "cell_type": "code",
   "execution_count": 7,
   "metadata": {
    "scrolled": false
   },
   "outputs": [
    {
     "data": {
      "text/plain": [
       "0               NaN\n",
       "1               NaN\n",
       "2               NaN\n",
       "3       2393.525928\n",
       "4      17544.949736\n",
       "           ...     \n",
       "903     1099.991525\n",
       "904             NaN\n",
       "905             NaN\n",
       "906             NaN\n",
       "907             NaN\n",
       "Length: 908, dtype: float64"
      ]
     },
     "execution_count": 7,
     "metadata": {},
     "output_type": "execute_result"
    }
   ],
   "source": [
    "# will compile all the generation year together\n",
    "df['total_generation'] = df['generation_gwh_2013'] + df['generation_gwh_2014']\n",
    "+ df['generation_gwh_2015'] + df['generation_gwh_2016'] + df['generation_gwh_2017'] "
   ]
  },
  {
   "cell_type": "code",
   "execution_count": 21,
   "metadata": {},
   "outputs": [],
   "source": [
    "df.drop(columns=['generation_gwh_2013','generation_gwh_2014','generation_gwh_2015','generation_gwh_2016',\n",
    "                  'generation_gwh_2017'],inplace=True)\n"
   ]
  },
  {
   "cell_type": "code",
   "execution_count": 23,
   "metadata": {},
   "outputs": [],
   "source": [
    "df['Total_fuel']=df['other_fuel1']+df['other_fuel2']+df['other_fuel3']"
   ]
  },
  {
   "cell_type": "code",
   "execution_count": 26,
   "metadata": {},
   "outputs": [
    {
     "data": {
      "text/plain": [
       "Series([], Name: Total_fuel, dtype: int64)"
      ]
     },
     "execution_count": 26,
     "metadata": {},
     "output_type": "execute_result"
    }
   ],
   "source": [
    "df['Total_fuel'].value_counts()"
   ]
  },
  {
   "cell_type": "code",
   "execution_count": 28,
   "metadata": {
    "scrolled": true
   },
   "outputs": [
    {
     "data": {
      "text/plain": [
       "Oil             196\n",
       "Gas               2\n",
       "Cogeneration      1\n",
       "Name: other_fuel1, dtype: int64"
      ]
     },
     "execution_count": 28,
     "metadata": {},
     "output_type": "execute_result"
    }
   ],
   "source": [
    "df['other_fuel1'].value_counts()"
   ]
  },
  {
   "cell_type": "code",
   "execution_count": 29,
   "metadata": {},
   "outputs": [
    {
     "data": {
      "text/plain": [
       "Oil    1\n",
       "Name: other_fuel2, dtype: int64"
      ]
     },
     "execution_count": 29,
     "metadata": {},
     "output_type": "execute_result"
    }
   ],
   "source": [
    "df['other_fuel2'].value_counts()"
   ]
  },
  {
   "cell_type": "code",
   "execution_count": 30,
   "metadata": {
    "scrolled": true
   },
   "outputs": [
    {
     "data": {
      "text/plain": [
       "Series([], Name: other_fuel3, dtype: int64)"
      ]
     },
     "execution_count": 30,
     "metadata": {},
     "output_type": "execute_result"
    }
   ],
   "source": [
    "df['other_fuel3'].value_counts()"
   ]
  },
  {
   "cell_type": "code",
   "execution_count": 32,
   "metadata": {
    "scrolled": false
   },
   "outputs": [],
   "source": [
    "# as there is no value in other_fuel3 s will be dropping this column\n",
    "df.drop(columns=['other_fuel3'],inplace=True)"
   ]
  },
  {
   "cell_type": "code",
   "execution_count": 42,
   "metadata": {
    "scrolled": true
   },
   "outputs": [
    {
     "data": {
      "text/plain": [
       "array([nan])"
      ]
     },
     "execution_count": 42,
     "metadata": {},
     "output_type": "execute_result"
    }
   ],
   "source": [
    "df['estimated_generation_gwh'].unique()"
   ]
  },
  {
   "cell_type": "code",
   "execution_count": 43,
   "metadata": {},
   "outputs": [
    {
     "data": {
      "text/plain": [
       "array([nan])"
      ]
     },
     "execution_count": 43,
     "metadata": {},
     "output_type": "execute_result"
    }
   ],
   "source": [
    "df['wepp_id'].unique()"
   ]
  },
  {
   "cell_type": "code",
   "execution_count": 44,
   "metadata": {
    "scrolled": false
   },
   "outputs": [
    {
     "data": {
      "text/plain": [
       "array(['National Renewable Energy Laboratory', 'WRI', nan,\n",
       "       'Industry About'], dtype=object)"
      ]
     },
     "execution_count": 44,
     "metadata": {},
     "output_type": "execute_result"
    }
   ],
   "source": [
    "df['geolocation_source'].unique()"
   ]
  },
  {
   "cell_type": "code",
   "execution_count": null,
   "metadata": {},
   "outputs": [],
   "source": [
    "df.drop=(columns['country','country_long','gppd_idnr','other_fuel2','url','geolocation_source','wepp_id',\n",
    "                'estimated_generation_gwh'],inplace=True)"
   ]
  },
  {
   "cell_type": "code",
   "execution_count": 52,
   "metadata": {
    "scrolled": true
   },
   "outputs": [],
   "source": [
    "df.drop(columns=['Total_fuel'],inplace=True)"
   ]
  },
  {
   "cell_type": "code",
   "execution_count": 54,
   "metadata": {
    "scrolled": false
   },
   "outputs": [
    {
     "data": {
      "text/html": [
       "<div>\n",
       "<style scoped>\n",
       "    .dataframe tbody tr th:only-of-type {\n",
       "        vertical-align: middle;\n",
       "    }\n",
       "\n",
       "    .dataframe tbody tr th {\n",
       "        vertical-align: top;\n",
       "    }\n",
       "\n",
       "    .dataframe thead th {\n",
       "        text-align: right;\n",
       "    }\n",
       "</style>\n",
       "<table border=\"1\" class=\"dataframe\">\n",
       "  <thead>\n",
       "    <tr style=\"text-align: right;\">\n",
       "      <th></th>\n",
       "      <th>name</th>\n",
       "      <th>capacity_mw</th>\n",
       "      <th>latitude</th>\n",
       "      <th>longitude</th>\n",
       "      <th>primary_fuel</th>\n",
       "      <th>other_fuel1</th>\n",
       "      <th>commissioning_year</th>\n",
       "      <th>owner</th>\n",
       "      <th>source</th>\n",
       "      <th>year_of_capacity_data</th>\n",
       "      <th>generation_data_source</th>\n",
       "      <th>total_generation</th>\n",
       "    </tr>\n",
       "  </thead>\n",
       "  <tbody>\n",
       "    <tr>\n",
       "      <th>0</th>\n",
       "      <td>ACME Solar Tower</td>\n",
       "      <td>2.5</td>\n",
       "      <td>28.1839</td>\n",
       "      <td>73.2407</td>\n",
       "      <td>Solar</td>\n",
       "      <td>NaN</td>\n",
       "      <td>2011.0</td>\n",
       "      <td>Solar Paces</td>\n",
       "      <td>National Renewable Energy Laboratory</td>\n",
       "      <td>NaN</td>\n",
       "      <td>NaN</td>\n",
       "      <td>NaN</td>\n",
       "    </tr>\n",
       "    <tr>\n",
       "      <th>1</th>\n",
       "      <td>ADITYA CEMENT WORKS</td>\n",
       "      <td>98.0</td>\n",
       "      <td>24.7663</td>\n",
       "      <td>74.6090</td>\n",
       "      <td>Coal</td>\n",
       "      <td>NaN</td>\n",
       "      <td>NaN</td>\n",
       "      <td>Ultratech Cement ltd</td>\n",
       "      <td>Ultratech Cement ltd</td>\n",
       "      <td>NaN</td>\n",
       "      <td>NaN</td>\n",
       "      <td>NaN</td>\n",
       "    </tr>\n",
       "  </tbody>\n",
       "</table>\n",
       "</div>"
      ],
      "text/plain": [
       "                  name  capacity_mw  latitude  longitude primary_fuel  \\\n",
       "0     ACME Solar Tower          2.5   28.1839    73.2407        Solar   \n",
       "1  ADITYA CEMENT WORKS         98.0   24.7663    74.6090         Coal   \n",
       "\n",
       "  other_fuel1  commissioning_year                 owner  \\\n",
       "0         NaN              2011.0           Solar Paces   \n",
       "1         NaN                 NaN  Ultratech Cement ltd   \n",
       "\n",
       "                                 source  year_of_capacity_data  \\\n",
       "0  National Renewable Energy Laboratory                    NaN   \n",
       "1                  Ultratech Cement ltd                    NaN   \n",
       "\n",
       "  generation_data_source  total_generation  \n",
       "0                    NaN               NaN  \n",
       "1                    NaN               NaN  "
      ]
     },
     "execution_count": 54,
     "metadata": {},
     "output_type": "execute_result"
    }
   ],
   "source": [
    "df.head(2)"
   ]
  },
  {
   "cell_type": "markdown",
   "metadata": {},
   "source": [
    "# Using visualization method analyzing columns"
   ]
  },
  {
   "cell_type": "code",
   "execution_count": 58,
   "metadata": {
    "scrolled": true
   },
   "outputs": [
    {
     "data": {
      "text/plain": [
       "<AxesSubplot:xlabel='capacity_mw', ylabel='total_generation'>"
      ]
     },
     "execution_count": 58,
     "metadata": {},
     "output_type": "execute_result"
    },
    {
     "data": {
      "image/png": "[encoded data removed]",
      "text/plain": [
       "<Figure size 864x576 with 1 Axes>"
      ]
     },
     "metadata": {
      "needs_background": "light"
     },
     "output_type": "display_data"
    }
   ],
   "source": [
    "plt.figure(figsize=(12,8))\n",
    "sns.lineplot(x='capacity_mw',y='total_generation',hue = 'primary_fuel',data=df)"
   ]
  },
  {
   "cell_type": "code",
   "execution_count": 63,
   "metadata": {
    "scrolled": true
   },
   "outputs": [
    {
     "data": {
      "text/plain": [
       "<AxesSubplot:xlabel='capacity_mw', ylabel='total_generation'>"
      ]
     },
     "execution_count": 63,
     "metadata": {},
     "output_type": "execute_result"
    },
    {
     "data": {
      "image/png": "[encoded data removed]",
      "text/plain": [
       "<Figure size 576x432 with 1 Axes>"
      ]
     },
     "metadata": {
      "needs_background": "light"
     },
     "output_type": "display_data"
    }
   ],
   "source": [
    "plt.figure(figsize=(8,6))\n",
    "sns.scatterplot(x='capacity_mw',y='total_generation',hue = 'primary_fuel',data=df)"
   ]
  },
  {
   "cell_type": "markdown",
   "metadata": {},
   "source": [
    "With the help of linegraph and scatterplot we are able to find the relation between capacity mw and total generation for \n",
    "primary fuel. Coal is the most generating fuel among all and having more capacity too. except this rest all are almost are having\n",
    "same electricity generation and capacity to generate the same."
   ]
  },
  {
   "cell_type": "code",
   "execution_count": 76,
   "metadata": {
    "scrolled": true
   },
   "outputs": [
    {
     "data": {
      "text/plain": [
       "primary_fuel  capacity_mw\n",
       "Biomass       10.000          6\n",
       "              16.000          5\n",
       "              24.000          5\n",
       "              20.000          3\n",
       "              26.000          3\n",
       "              12.500          2\n",
       "              15.000          2\n",
       "              18.000          2\n",
       "              18.900          2\n",
       "              22.000          2\n",
       "              28.000          2\n",
       "              30.000          2\n",
       "              11.000          1\n",
       "              11.200          1\n",
       "              12.960          1\n",
       "              16.500          1\n",
       "              17.000          1\n",
       "              17.500          1\n",
       "              19.700          1\n",
       "              19.800          1\n",
       "              22.800          1\n",
       "              25.000          1\n",
       "              25.500          1\n",
       "              31.500          1\n",
       "              36.000          1\n",
       "              50.000          1\n",
       "Coal          600.000        19\n",
       "              1200.000       16\n",
       "              500.000        13\n",
       "              1000.000        7\n",
       "              1320.000        6\n",
       "              25.000          5\n",
       "              90.000          5\n",
       "              300.000         5\n",
       "              10.000          4\n",
       "              30.000          4\n",
       "              210.000         4\n",
       "              270.000         4\n",
       "              630.000         4\n",
       "              1050.000        4\n",
       "              1340.000        4\n",
       "              15.000          3\n",
       "              35.000          3\n",
       "              46.000          3\n",
       "              50.000          3\n",
       "              135.000         3\n",
       "              250.000         3\n",
       "              420.000         3\n",
       "              540.000         3\n",
       "              660.000         3\n",
       "              1260.000        3\n",
       "              1500.000        3\n",
       "              1600.000        3\n",
       "              1980.000        3\n",
       "              2400.000        3\n",
       "              12.000          2\n",
       "              40.000          2\n",
       "              45.000          2\n",
       "              60.000          2\n",
       "              80.000          2\n",
       "              100.000         2\n",
       "              120.000         2\n",
       "              440.000         2\n",
       "              720.000         2\n",
       "              750.000         2\n",
       "              920.000         2\n",
       "              1080.000        2\n",
       "              1350.000        2\n",
       "              1470.000        2\n",
       "              2000.000        2\n",
       "              2600.000        2\n",
       "              3000.000        2\n",
       "              10.500          1\n",
       "              12.270          1\n",
       "              12.800          1\n",
       "              18.000          1\n",
       "              18.700          1\n",
       "              20.000          1\n",
       "              25.800          1\n",
       "              29.000          1\n",
       "              30.750          1\n",
       "              31.400          1\n",
       "              33.000          1\n",
       "              33.200          1\n",
       "              36.000          1\n",
       "              38.500          1\n",
       "              41.000          1\n",
       "              43.000          1\n",
       "              45.500          1\n",
       "              50.700          1\n",
       "              54.500          1\n",
       "              55.000          1\n",
       "              62.500          1\n",
       "              63.000          1\n",
       "              63.500          1\n",
       "              65.000          1\n",
       "              66.000          1\n",
       "              67.500          1\n",
       "              69.600          1\n",
       "              75.000          1\n",
       "              98.000          1\n",
       "              99.000          1\n",
       "              125.000         1\n",
       "              150.000         1\n",
       "              155.000         1\n",
       "              160.000         1\n",
       "              234.000         1\n",
       "              240.000         1\n",
       "              246.000         1\n",
       "              260.000         1\n",
       "              290.000         1\n",
       "              350.000         1\n",
       "              422.000         1\n",
       "              427.500         1\n",
       "              455.000         1\n",
       "              460.000         1\n",
       "              605.000         1\n",
       "              610.000         1\n",
       "              705.000         1\n",
       "              800.000         1\n",
       "              840.000         1\n",
       "              890.000         1\n",
       "              1040.000        1\n",
       "              1100.000        1\n",
       "              1110.000        1\n",
       "              1140.000        1\n",
       "              1170.000        1\n",
       "              1188.000        1\n",
       "              1210.000        1\n",
       "              1240.000        1\n",
       "              1330.000        1\n",
       "              1370.000        1\n",
       "              1400.000        1\n",
       "              1550.000        1\n",
       "              1650.000        1\n",
       "              1660.000        1\n",
       "              1700.000        1\n",
       "              1720.000        1\n",
       "              1800.000        1\n",
       "              1820.000        1\n",
       "              2100.000        1\n",
       "              2320.000        1\n",
       "              2340.000        1\n",
       "              2630.000        1\n",
       "              2920.000        1\n",
       "              2980.000        1\n",
       "              3300.000        1\n",
       "              3960.000        1\n",
       "              4000.000        1\n",
       "              4620.000        1\n",
       "              4760.000        1\n",
       "Gas           75.000          2\n",
       "              220.000         2\n",
       "              225.000         2\n",
       "              330.000         2\n",
       "              15.500          1\n",
       "              18.000          1\n",
       "              20.000          1\n",
       "              30.000          1\n",
       "              31.200          1\n",
       "              32.500          1\n",
       "              35.000          1\n",
       "              42.000          1\n",
       "              48.000          1\n",
       "              52.800          1\n",
       "              62.600          1\n",
       "              63.000          1\n",
       "              66.000          1\n",
       "              94.800          1\n",
       "              101.000         1\n",
       "              107.880         1\n",
       "              119.800         1\n",
       "              120.000         1\n",
       "              135.000         1\n",
       "              136.500         1\n",
       "              142.200         1\n",
       "              156.100         1\n",
       "              161.750         1\n",
       "              165.000         1\n",
       "              166.500         1\n",
       "              180.000         1\n",
       "              186.200         1\n",
       "              205.240         1\n",
       "              270.000         1\n",
       "              270.500         1\n",
       "              272.300         1\n",
       "              291.000         1\n",
       "              310.000         1\n",
       "              330.500         1\n",
       "              350.000         1\n",
       "              351.430         1\n",
       "              374.571         1\n",
       "              382.500         1\n",
       "              388.000         1\n",
       "              388.500         1\n",
       "              419.330         1\n",
       "              431.586         1\n",
       "              445.000         1\n",
       "              445.674         1\n",
       "              468.570         1\n",
       "              515.000         1\n",
       "              595.200         1\n",
       "              645.000         1\n",
       "              648.000         1\n",
       "              652.000         1\n",
       "              655.000         1\n",
       "              672.000         1\n",
       "              702.860         1\n",
       "              726.600         1\n",
       "              768.000         1\n",
       "              816.400         1\n",
       "              1147.500        1\n",
       "              1200.000        1\n",
       "              1371.200        1\n",
       "              1458.000        1\n",
       "              1967.080        1\n",
       "Hydro         60.000         10\n",
       "              30.000          8\n",
       "              9.000           6\n",
       "              15.000          6\n",
       "              120.000         6\n",
       "              240.000         6\n",
       "              300.000         6\n",
       "              4.000           5\n",
       "              6.000           5\n",
       "              12.000          5\n",
       "              20.000          5\n",
       "              36.000          5\n",
       "              100.000         5\n",
       "              16.000          4\n",
       "              50.000          4\n",
       "              250.000         4\n",
       "              3.750           3\n",
       "              4.500           3\n",
       "              5.000           3\n",
       "              32.000          3\n",
       "              75.000          3\n",
       "              90.000          3\n",
       "              96.000          3\n",
       "              400.000         3\n",
       "              1000.000        3\n",
       "              6.600           2\n",
       "              10.000          2\n",
       "              13.500          2\n",
       "              22.500          2\n",
       "              24.000          2\n",
       "              45.000          2\n",
       "              70.000          2\n",
       "              72.000          2\n",
       "              77.650          2\n",
       "              80.000          2\n",
       "              99.000          2\n",
       "              105.000         2\n",
       "              110.000         2\n",
       "              126.000         2\n",
       "              150.000         2\n",
       "              160.000         2\n",
       "              180.000         2\n",
       "              330.000         2\n",
       "              450.000         2\n",
       "              460.000         2\n",
       "              510.000         2\n",
       "              520.000         2\n",
       "              600.000         2\n",
       "              900.000         2\n",
       "              1200.000        2\n",
       "              3.300           1\n",
       "              4.800           1\n",
       "              8.000           1\n",
       "              9.300           1\n",
       "              10.500          1\n",
       "              11.200          1\n",
       "              11.600          1\n",
       "              16.950          1\n",
       "              17.200          1\n",
       "              18.000          1\n",
       "              20.400          1\n",
       "              21.000          1\n",
       "              25.000          1\n",
       "              27.000          1\n",
       "              28.300          1\n",
       "              30.600          1\n",
       "              32.800          1\n",
       "              33.750          1\n",
       "              34.000          1\n",
       "              35.000          1\n",
       "              37.500          1\n",
       "              39.200          1\n",
       "              40.000          1\n",
       "              41.400          1\n",
       "              42.000          1\n",
       "              44.000          1\n",
       "              48.000          1\n",
       "              51.000          1\n",
       "              54.000          1\n",
       "              55.000          1\n",
       "              59.200          1\n",
       "              62.400          1\n",
       "              63.200          1\n",
       "              64.000          1\n",
       "              67.500          1\n",
       "              91.350          1\n",
       "              94.200          1\n",
       "              95.000          1\n",
       "              97.000          1\n",
       "              114.750         1\n",
       "              115.000         1\n",
       "              125.000         1\n",
       "              127.600         1\n",
       "              130.000         1\n",
       "              132.000         1\n",
       "              134.000         1\n",
       "              139.200         1\n",
       "              140.000         1\n",
       "              144.000         1\n",
       "              161.000         1\n",
       "              172.000         1\n",
       "              186.000         1\n",
       "              192.000         1\n",
       "              195.000         1\n",
       "              198.000         1\n",
       "              207.000         1\n",
       "              225.000         1\n",
       "              231.000         1\n",
       "              234.000         1\n",
       "              280.000         1\n",
       "              290.000         1\n",
       "              315.000         1\n",
       "              320.000         1\n",
       "              331.500         1\n",
       "              390.000         1\n",
       "              394.000         1\n",
       "              396.000         1\n",
       "              405.000         1\n",
       "              412.020         1\n",
       "              480.000         1\n",
       "              540.000         1\n",
       "              555.000         1\n",
       "              690.000         1\n",
       "              770.000         1\n",
       "              780.000         1\n",
       "              800.000         1\n",
       "              815.600         1\n",
       "              855.000         1\n",
       "              990.000         1\n",
       "              1035.000        1\n",
       "              1325.000        1\n",
       "              1500.000        1\n",
       "              1956.000        1\n",
       "Nuclear       440.000         3\n",
       "              2000.000        2\n",
       "              100.000         1\n",
       "              880.000         1\n",
       "              1080.000        1\n",
       "              1400.000        1\n",
       "Oil           22.000          2\n",
       "              25.200          2\n",
       "              21.840          1\n",
       "              22.500          1\n",
       "              36.000          1\n",
       "              36.800          1\n",
       "              40.000          1\n",
       "              60.000          1\n",
       "              67.600          1\n",
       "              78.900          1\n",
       "              81.500          1\n",
       "              96.000          1\n",
       "              105.700         1\n",
       "              106.000         1\n",
       "              106.600         1\n",
       "              150.000         1\n",
       "              175.000         1\n",
       "              200.000         1\n",
       "              500.000         1\n",
       "Solar         5.000          35\n",
       "              1.000          17\n",
       "              10.000          9\n",
       "              15.000          8\n",
       "              50.000          7\n",
       "              2.000           6\n",
       "              3.000           6\n",
       "              20.000          4\n",
       "              25.000          4\n",
       "              100.000         4\n",
       "              40.000          3\n",
       "              2.100           2\n",
       "              0.000           1\n",
       "              1.800           1\n",
       "              2.500           1\n",
       "              4.200           1\n",
       "              5.200           1\n",
       "              5.800           1\n",
       "              6.600           1\n",
       "              8.500           1\n",
       "              9.000           1\n",
       "              15.200          1\n",
       "              16.500          1\n",
       "              17.000          1\n",
       "              19.000          1\n",
       "              21.000          1\n",
       "              22.000          1\n",
       "              28.000          1\n",
       "              28.200          1\n",
       "              30.500          1\n",
       "              36.300          1\n",
       "              125.000         1\n",
       "              221.000         1\n",
       "              648.000         1\n",
       "Wind          50.400          7\n",
       "              10.500          5\n",
       "              16.500          4\n",
       "              20.000          4\n",
       "              21.000          4\n",
       "              24.000          4\n",
       "              1.500           3\n",
       "              3.600           3\n",
       "              6.000           3\n",
       "              25.500          3\n",
       "              1.700           2\n",
       "              3.000           2\n",
       "              6.250           2\n",
       "              11.200          2\n",
       "              22.500          2\n",
       "              23.100          2\n",
       "              33.000          2\n",
       "              100.000         2\n",
       "              150.000         2\n",
       "              1.000           1\n",
       "              2.250           1\n",
       "              2.400           1\n",
       "              4.000           1\n",
       "              4.250           1\n",
       "              5.000           1\n",
       "              6.300           1\n",
       "              7.200           1\n",
       "              7.500           1\n",
       "              8.400           1\n",
       "              9.000           1\n",
       "              9.350           1\n",
       "              9.700           1\n",
       "              9.900           1\n",
       "              10.000          1\n",
       "              10.250          1\n",
       "              12.000          1\n",
       "              13.200          1\n",
       "              14.400          1\n",
       "              14.650          1\n",
       "              14.850          1\n",
       "              15.000          1\n",
       "              19.800          1\n",
       "              20.800          1\n",
       "              21.800          1\n",
       "              24.800          1\n",
       "              25.600          1\n",
       "              25.700          1\n",
       "              26.400          1\n",
       "              27.300          1\n",
       "              27.650          1\n",
       "              29.600          1\n",
       "              30.000          1\n",
       "              31.500          1\n",
       "              33.600          1\n",
       "              34.400          1\n",
       "              34.650          1\n",
       "              35.100          1\n",
       "              35.200          1\n",
       "              37.500          1\n",
       "              37.600          1\n",
       "              39.000          1\n",
       "              39.200          1\n",
       "              40.000          1\n",
       "              42.000          1\n",
       "              42.500          1\n",
       "              49.000          1\n",
       "              49.600          1\n",
       "              51.000          1\n",
       "              52.500          1\n",
       "              56.250          1\n",
       "              65.600          1\n",
       "              68.800          1\n",
       "              74.000          1\n",
       "              75.000          1\n",
       "              75.600          1\n",
       "              78.900          1\n",
       "              88.800          1\n",
       "              91.800          1\n",
       "              98.700          1\n",
       "              100.800         1\n",
       "              102.000         1\n",
       "              113.600         1\n",
       "              125.000         1\n",
       "              200.000         1\n",
       "Name: capacity_mw, dtype: int64"
      ]
     },
     "execution_count": 76,
     "metadata": {},
     "output_type": "execute_result"
    }
   ],
   "source": [
    "df.groupby('primary_fuel')['capacity_mw'].value_counts()"
   ]
  },
  {
   "cell_type": "markdown",
   "metadata": {},
   "source": [
    "from this we can see which fuel is having more capacity to generate electricity and in which we got the same result as in graph above\n",
    ". Coal is the most generating fuel for any of the plant"
   ]
  },
  {
   "cell_type": "code",
   "execution_count": 75,
   "metadata": {
    "scrolled": true
   },
   "outputs": [
    {
     "data": {
      "text/plain": [
       "primary_fuel  total_generation\n",
       "Coal          0.000000            6\n",
       "              22.755000           1\n",
       "              95.000000           1\n",
       "              144.289000          1\n",
       "              244.388000          1\n",
       "              268.055700          1\n",
       "              377.227800          1\n",
       "              399.424000          1\n",
       "              549.370000          1\n",
       "              568.165900          1\n",
       "              571.860000          1\n",
       "              682.181300          1\n",
       "              914.790000          1\n",
       "              926.463000          1\n",
       "              937.140000          1\n",
       "              953.860000          1\n",
       "              964.090000          1\n",
       "              1048.241000         1\n",
       "              1202.450000         1\n",
       "              1225.871350         1\n",
       "              1354.830000         1\n",
       "              1480.958400         1\n",
       "              1780.811000         1\n",
       "              1855.020000         1\n",
       "              1975.219000         1\n",
       "              2044.809087         1\n",
       "              2134.851000         1\n",
       "              2414.040000         1\n",
       "              2512.368000         1\n",
       "              2645.600000         1\n",
       "              2729.940000         1\n",
       "              2739.009000         1\n",
       "              2760.000000         1\n",
       "              2832.505000         1\n",
       "              2946.839000         1\n",
       "              2955.021000         1\n",
       "              2959.290000         1\n",
       "              3125.269000         1\n",
       "              3171.730000         1\n",
       "              3237.219000         1\n",
       "              3357.140000         1\n",
       "              3399.240000         1\n",
       "              3665.381200         1\n",
       "              3722.056700         1\n",
       "              4078.340000         1\n",
       "              4088.960000         1\n",
       "              4099.540000         1\n",
       "              4103.090000         1\n",
       "              4288.680000         1\n",
       "              4530.226000         1\n",
       "              4648.562000         1\n",
       "              4703.840000         1\n",
       "              4744.587000         1\n",
       "              4794.700000         1\n",
       "              4852.581000         1\n",
       "              5045.668000         1\n",
       "              5185.530000         1\n",
       "              5262.340000         1\n",
       "              5483.817000         1\n",
       "              5589.180000         1\n",
       "              5597.250000         1\n",
       "              5622.269000         1\n",
       "              5707.519300         1\n",
       "              5723.100000         1\n",
       "              5942.000000         1\n",
       "              6120.836000         1\n",
       "              6281.330000         1\n",
       "              6352.375820         1\n",
       "              6580.681000         1\n",
       "              6705.000000         1\n",
       "              6731.351000         1\n",
       "              6788.072000         1\n",
       "              6806.490000         1\n",
       "              6911.222000         1\n",
       "              7024.853000         1\n",
       "              7049.100000         1\n",
       "              7077.971000         1\n",
       "              7086.540500         1\n",
       "              7381.070000         1\n",
       "              7551.842000         1\n",
       "              7584.498000         1\n",
       "              7751.078000         1\n",
       "              7790.633000         1\n",
       "              8580.866300         1\n",
       "              8801.000000         1\n",
       "              8836.031100         1\n",
       "              9021.220000         1\n",
       "              9299.580000         1\n",
       "              9506.587900         1\n",
       "              9592.499000         1\n",
       "              9702.785800         1\n",
       "              9724.301000         1\n",
       "              9835.980000         1\n",
       "              10216.068000        1\n",
       "              10252.980000        1\n",
       "              10605.680000        1\n",
       "              10838.000000        1\n",
       "              10865.320000        1\n",
       "              11097.763000        1\n",
       "              11255.000000        1\n",
       "              11295.898000        1\n",
       "              11444.154000        1\n",
       "              11511.155000        1\n",
       "              11625.496000        1\n",
       "              11972.420000        1\n",
       "              12041.943000        1\n",
       "              12274.180000        1\n",
       "              12392.670000        1\n",
       "              12590.900000        1\n",
       "              12751.230000        1\n",
       "              12768.706000        1\n",
       "              13284.303000        1\n",
       "              13509.507000        1\n",
       "              13537.472000        1\n",
       "              13711.040000        1\n",
       "              13970.224000        1\n",
       "              14129.490000        1\n",
       "              14141.000000        1\n",
       "              14295.946000        1\n",
       "              14746.420000        1\n",
       "              14811.830000        1\n",
       "              15239.000000        1\n",
       "              16132.307300        1\n",
       "              16385.400000        1\n",
       "              16536.529000        1\n",
       "              16803.874000        1\n",
       "              17711.604000        1\n",
       "              17816.918250        1\n",
       "              18784.438000        1\n",
       "              20167.510000        1\n",
       "              21303.614000        1\n",
       "              23778.000000        1\n",
       "              24873.000000        1\n",
       "              25116.350000        1\n",
       "              27898.370000        1\n",
       "              28035.000000        1\n",
       "              28312.880000        1\n",
       "              36845.000000        1\n",
       "              37784.000000        1\n",
       "              38160.000000        1\n",
       "              38636.000000        1\n",
       "              42562.000000        1\n",
       "              46474.000000        1\n",
       "              54355.390000        1\n",
       "              55713.200000        1\n",
       "Gas           0.000000            7\n",
       "              2.205850            1\n",
       "              3.675575            1\n",
       "              137.170000          1\n",
       "              171.970000          1\n",
       "              246.214000          1\n",
       "              327.944000          1\n",
       "              336.280988          1\n",
       "              474.447000          1\n",
       "              482.240000          1\n",
       "              537.410000          1\n",
       "              562.667910          1\n",
       "              627.170600          1\n",
       "              749.122000          1\n",
       "              833.492700          1\n",
       "              865.900000          1\n",
       "              1046.917000         1\n",
       "              1064.657000         1\n",
       "              1249.567192         1\n",
       "              1256.572000         1\n",
       "              1409.231355         1\n",
       "              1534.176000         1\n",
       "              1581.522000         1\n",
       "              1663.785500         1\n",
       "              1689.691825         1\n",
       "              1714.420000         1\n",
       "              1733.000000         1\n",
       "              1762.182800         1\n",
       "              1766.474230         1\n",
       "              1913.431000         1\n",
       "              1958.640000         1\n",
       "              2195.591000         1\n",
       "              2360.870000         1\n",
       "              2568.679896         1\n",
       "              2761.613700         1\n",
       "              2843.000000         1\n",
       "              3044.000000         1\n",
       "              3213.620000         1\n",
       "              3337.000000         1\n",
       "              3350.680000         1\n",
       "              3383.034320         1\n",
       "              3531.929000         1\n",
       "              4156.792000         1\n",
       "              4749.000000         1\n",
       "              5777.000000         1\n",
       "              6586.686000         1\n",
       "Hydro         0.000000            1\n",
       "              24.914800           1\n",
       "              69.331600           1\n",
       "              77.152300           1\n",
       "              97.669200           1\n",
       "              103.171550          1\n",
       "              108.654000          1\n",
       "              113.808100          1\n",
       "              125.539150          1\n",
       "              138.265200          1\n",
       "              139.598500          1\n",
       "              142.537730          1\n",
       "              142.543700          1\n",
       "              143.691930          1\n",
       "              147.459000          1\n",
       "              155.419000          1\n",
       "              159.170150          1\n",
       "              185.667000          1\n",
       "              195.537400          1\n",
       "              202.860600          1\n",
       "              208.542050          1\n",
       "              222.561600          1\n",
       "              229.387300          1\n",
       "              232.521550          1\n",
       "              232.740450          1\n",
       "              234.790150          1\n",
       "              244.222750          1\n",
       "              245.436650          1\n",
       "              254.650350          1\n",
       "              255.675200          1\n",
       "              262.351650          1\n",
       "              265.933650          1\n",
       "              266.590350          1\n",
       "              270.868850          1\n",
       "              272.361350          1\n",
       "              291.694200          1\n",
       "              291.763850          1\n",
       "              305.126700          1\n",
       "              318.429850          1\n",
       "              323.603850          1\n",
       "              333.006600          1\n",
       "              335.106050          1\n",
       "              359.045750          1\n",
       "              388.428100          1\n",
       "              408.805700          1\n",
       "              410.875300          1\n",
       "              425.073950          1\n",
       "              427.889800          1\n",
       "              429.989250          1\n",
       "              436.675650          1\n",
       "              438.397000          1\n",
       "              438.795000          1\n",
       "              454.715000          1\n",
       "              469.222100          1\n",
       "              483.868500          1\n",
       "              492.962800          1\n",
       "              500.216350          1\n",
       "              500.902900          1\n",
       "              504.892850          1\n",
       "              507.141550          1\n",
       "              515.618950          1\n",
       "              521.041700          1\n",
       "              521.588950          1\n",
       "              526.026650          1\n",
       "              543.628200          1\n",
       "              578.234300          1\n",
       "              602.183950          1\n",
       "              611.208600          1\n",
       "              615.507000          1\n",
       "              619.496950          1\n",
       "              623.546600          1\n",
       "              662.232200          1\n",
       "              674.351300          1\n",
       "              678.769100          1\n",
       "              705.524650          1\n",
       "              710.131500          1\n",
       "              710.738450          1\n",
       "              718.668600          1\n",
       "              742.148610          1\n",
       "              754.946300          1\n",
       "              762.538150          1\n",
       "              768.189750          1\n",
       "              778.627300          1\n",
       "              813.332900          1\n",
       "              819.273050          1\n",
       "              820.447150          1\n",
       "              826.735550          1\n",
       "              838.715350          1\n",
       "              859.391450          1\n",
       "              887.311150          1\n",
       "              899.470050          1\n",
       "              909.688700          1\n",
       "              918.385000          1\n",
       "              923.947050          1\n",
       "              977.696950          1\n",
       "              985.408200          1\n",
       "              985.557450          1\n",
       "              1001.984900         1\n",
       "              1007.218600         1\n",
       "              1020.671000         1\n",
       "              1040.640650         1\n",
       "              1072.818950         1\n",
       "              1076.162150         1\n",
       "              1087.216600         1\n",
       "              1093.087100         1\n",
       "              1111.783150         1\n",
       "              1170.199600         1\n",
       "              1172.269200         1\n",
       "              1202.387850         1\n",
       "              1230.864750         1\n",
       "              1265.829050         1\n",
       "              1311.002050         1\n",
       "              1345.747450         1\n",
       "              1371.129900         1\n",
       "              1416.153650         1\n",
       "              1427.536450         1\n",
       "              1496.012350         1\n",
       "              1577.174500         1\n",
       "              1582.328600         1\n",
       "              1583.980300         1\n",
       "              1598.358050         1\n",
       "              1644.774800         1\n",
       "              1797.497350         1\n",
       "              1812.790500         1\n",
       "              1897.047100         1\n",
       "              1948.846800         1\n",
       "              2079.967900         1\n",
       "              2182.602150         1\n",
       "              2242.570800         1\n",
       "              2286.191600         1\n",
       "              2336.051050         1\n",
       "              2455.242100         1\n",
       "              2470.953150         1\n",
       "              2542.812050         1\n",
       "              2585.079650         1\n",
       "              2627.735300         1\n",
       "              2718.359900         1\n",
       "              2726.419400         1\n",
       "              2748.339250         1\n",
       "              2845.640300         1\n",
       "              2880.335950         1\n",
       "              2980.074750         1\n",
       "              3063.525400         1\n",
       "              3078.918050         1\n",
       "              3249.471000         1\n",
       "              3421.496550         1\n",
       "              4304.887400         1\n",
       "              4861.778950         1\n",
       "              4868.206650         1\n",
       "              5187.432500         1\n",
       "              5206.815100         1\n",
       "              5569.393100         1\n",
       "              5711.011450         1\n",
       "              5869.256250         1\n",
       "              6278.191300         1\n",
       "              6587.477100         1\n",
       "              6692.618750         1\n",
       "              6845.649750         1\n",
       "              7048.560100         1\n",
       "              7481.942300         1\n",
       "              8849.221550         1\n",
       "              10794.685350        1\n",
       "              11421.047800        1\n",
       "              13957.889850        1\n",
       "Nuclear       4248.630000         1\n",
       "              4942.000000         1\n",
       "              6154.023000         1\n",
       "              11804.910000        1\n",
       "              15156.000000        1\n",
       "              18300.595000        1\n",
       "Oil           0.000000            5\n",
       "              20.900000           1\n",
       "              36.088700           1\n",
       "              380.894030          1\n",
       "              522.803339          1\n",
       "              590.324000          1\n",
       "              1223.860000         1\n",
       "              1377.560000         1\n",
       "Name: total_generation, dtype: int64"
      ]
     },
     "execution_count": 75,
     "metadata": {},
     "output_type": "execute_result"
    }
   ],
   "source": [
    "df.groupby('primary_fuel')['total_generation'].value_counts()"
   ]
  },
  {
   "cell_type": "markdown",
   "metadata": {},
   "source": [
    "coal is the most generating fuel "
   ]
  },
  {
   "cell_type": "code",
   "execution_count": 77,
   "metadata": {
    "scrolled": true
   },
   "outputs": [
    {
     "data": {
      "text/plain": [
       "<AxesSubplot:xlabel='primary_fuel', ylabel='total_generation'>"
      ]
     },
     "execution_count": 77,
     "metadata": {},
     "output_type": "execute_result"
    },
    {
     "data": {
      "image/png": "[encoded data removed]",
      "text/plain": [
       "<Figure size 576x432 with 1 Axes>"
      ]
     },
     "metadata": {
      "needs_background": "light"
     },
     "output_type": "display_data"
    }
   ],
   "source": [
    "plt.figure(figsize=(8,6))\n",
    "sns.scatterplot(x='primary_fuel',y='total_generation',hue = 'primary_fuel',data=df)"
   ]
  },
  {
   "cell_type": "code",
   "execution_count": 74,
   "metadata": {
    "scrolled": true
   },
   "outputs": [
    {
     "data": {
      "text/plain": [
       "capacity_mw  total_generation\n",
       "25.200       0.000000            1\n",
       "27.000       97.669200           1\n",
       "28.300       208.542050          1\n",
       "30.000       24.914800           1\n",
       "             77.152300           1\n",
       "             108.654000          1\n",
       "             222.561600          1\n",
       "             232.740450          1\n",
       "             270.868850          1\n",
       "             323.603850          1\n",
       "             333.006600          1\n",
       "30.600       195.537400          1\n",
       "32.000       147.459000          1\n",
       "             254.650350          1\n",
       "             272.361350          1\n",
       "32.500       336.280988          1\n",
       "32.800       143.691930          1\n",
       "33.750       318.429850          1\n",
       "34.000       155.419000          1\n",
       "35.000       0.000000            1\n",
       "             202.860600          1\n",
       "36.000       0.000000            1\n",
       "             262.351650          1\n",
       "             266.590350          1\n",
       "             291.694200          1\n",
       "36.800       0.000000            1\n",
       "37.500       425.073950          1\n",
       "39.200       113.808100          1\n",
       "41.400       159.170150          1\n",
       "42.000       438.795000          1\n",
       "             562.667910          1\n",
       "44.000       69.331600           1\n",
       "45.000       125.539150          1\n",
       "             138.265200          1\n",
       "             571.860000          1\n",
       "48.000       246.214000          1\n",
       "             291.763850          1\n",
       "50.000       265.933650          1\n",
       "             438.397000          1\n",
       "             500.216350          1\n",
       "51.000       483.868500          1\n",
       "52.800       749.122000          1\n",
       "54.000       469.222100          1\n",
       "55.000       521.588950          1\n",
       "59.200       103.171550          1\n",
       "60.000       36.088700           1\n",
       "             139.598500          1\n",
       "             229.387300          1\n",
       "             232.521550          1\n",
       "             244.222750          1\n",
       "             245.436650          1\n",
       "             305.126700          1\n",
       "             335.106050          1\n",
       "             377.227800          1\n",
       "             427.889800          1\n",
       "             678.769100          1\n",
       "62.400       388.428100          1\n",
       "62.500       568.165900          1\n",
       "63.000       0.000000            1\n",
       "             865.900000          1\n",
       "63.200       234.790150          1\n",
       "64.000       521.041700          1\n",
       "67.500       142.537730          1\n",
       "70.000       454.715000          1\n",
       "             705.524650          1\n",
       "72.000       623.546600          1\n",
       "             778.627300          1\n",
       "75.000       408.805700          1\n",
       "             602.183950          1\n",
       "             754.946300          1\n",
       "77.650       909.688700          1\n",
       "             923.947050          1\n",
       "80.000       185.667000          1\n",
       "             255.675200          1\n",
       "90.000       436.675650          1\n",
       "             914.790000          1\n",
       "             926.463000          1\n",
       "             937.140000          1\n",
       "             953.860000          1\n",
       "             964.090000          1\n",
       "             1040.640650         1\n",
       "91.350       742.148610          1\n",
       "94.200       826.735550          1\n",
       "94.800       0.000000            1\n",
       "95.000       526.026650          1\n",
       "96.000       380.894030          1\n",
       "             504.892850          1\n",
       "99.000       429.989250          1\n",
       "             615.507000          1\n",
       "100.000      0.000000            1\n",
       "             359.045750          1\n",
       "             399.424000          1\n",
       "             820.447150          1\n",
       "             918.385000          1\n",
       "101.000      1046.917000         1\n",
       "105.000      1007.218600         1\n",
       "             1111.783150         1\n",
       "105.700      522.803339          1\n",
       "106.000      590.324000          1\n",
       "106.600      20.900000           1\n",
       "107.880      833.492700          1\n",
       "110.000      718.668600          1\n",
       "             859.391450          1\n",
       "114.750      1087.216600         1\n",
       "115.000      674.351300          1\n",
       "119.800      1256.572000         1\n",
       "120.000      3.675575            1\n",
       "             95.000000           1\n",
       "             507.141550          1\n",
       "             543.628200          1\n",
       "             710.131500          1\n",
       "             838.715350          1\n",
       "             1076.162150         1\n",
       "             1093.087100         1\n",
       "125.000      1582.328600         1\n",
       "126.000      819.273050          1\n",
       "             1202.387850         1\n",
       "127.600      515.618950          1\n",
       "130.000      142.543700          1\n",
       "132.000      578.234300          1\n",
       "134.000      1345.747450         1\n",
       "135.000      682.181300          1\n",
       "             1249.567192         1\n",
       "             1855.020000         1\n",
       "139.200      611.208600          1\n",
       "140.000      410.875300          1\n",
       "142.200      1689.691825         1\n",
       "144.000      1577.174500         1\n",
       "150.000      0.000000            1\n",
       "             762.538150          1\n",
       "             768.189750          1\n",
       "156.100      474.447000          1\n",
       "160.000      813.332900          1\n",
       "161.000      985.557450          1\n",
       "161.750      1064.657000         1\n",
       "165.000      482.240000          1\n",
       "172.000      887.311150          1\n",
       "175.000      0.000000            1\n",
       "180.000      1172.269200         1\n",
       "             1427.536450         1\n",
       "             2360.870000         1\n",
       "186.000      1230.864750         1\n",
       "186.200      2195.591000         1\n",
       "192.000      1371.129900         1\n",
       "198.000      500.902900          1\n",
       "200.000      1377.560000         1\n",
       "205.240      1581.522000         1\n",
       "207.000      2286.191600         1\n",
       "210.000      1480.958400         1\n",
       "             2832.505000         1\n",
       "             2959.290000         1\n",
       "             4530.226000         1\n",
       "220.000      0.000000            1\n",
       "             627.170600          1\n",
       "225.000      1416.153650         1\n",
       "231.000      1948.846800         1\n",
       "234.000      492.962800          1\n",
       "240.000      619.496950          1\n",
       "             977.696950          1\n",
       "             1170.199600         1\n",
       "             1583.980300         1\n",
       "             1812.790500         1\n",
       "             3171.730000         1\n",
       "246.000      244.388000          1\n",
       "250.000      710.738450          1\n",
       "             899.470050          1\n",
       "             1265.829050         1\n",
       "             1644.774800         1\n",
       "             1975.219000         1\n",
       "             2512.368000         1\n",
       "             3399.240000         1\n",
       "260.000      4103.090000         1\n",
       "270.000      22.755000           1\n",
       "             1913.431000         1\n",
       "             3237.219000         1\n",
       "270.500      1766.474230         1\n",
       "272.300      1663.785500         1\n",
       "280.000      1020.671000         1\n",
       "290.000      985.408200          1\n",
       "             2946.839000         1\n",
       "291.000      3383.034320         1\n",
       "300.000      1072.818950         1\n",
       "             1496.012350         1\n",
       "             1797.497350         1\n",
       "             2044.809087         1\n",
       "             2585.079650         1\n",
       "             2645.600000         1\n",
       "             2845.640300         1\n",
       "             2880.335950         1\n",
       "310.000      1714.420000         1\n",
       "315.000      2726.419400         1\n",
       "320.000      1598.358050         1\n",
       "330.000      1762.182800         1\n",
       "             4156.792000         1\n",
       "330.500      2568.679896         1\n",
       "331.500      1897.047100         1\n",
       "350.000      1733.000000         1\n",
       "351.430      0.000000            1\n",
       "374.571      137.170000          1\n",
       "388.500      171.970000          1\n",
       "390.000      4304.887400         1\n",
       "394.000      2470.953150         1\n",
       "396.000      3078.918050         1\n",
       "400.000      1001.984900         1\n",
       "             2242.570800         1\n",
       "             2718.359900         1\n",
       "405.000      2079.967900         1\n",
       "412.020      1311.002050         1\n",
       "419.330      3531.929000         1\n",
       "420.000      4099.540000         1\n",
       "             5045.668000         1\n",
       "             6120.836000         1\n",
       "422.000      5185.530000         1\n",
       "427.500      4794.700000         1\n",
       "431.586      3213.620000         1\n",
       "440.000      2739.009000         1\n",
       "             4248.630000         1\n",
       "             4942.000000         1\n",
       "             5942.000000         1\n",
       "             6154.023000         1\n",
       "445.000      0.000000            1\n",
       "445.674      1534.176000         1\n",
       "450.000      5711.011450         1\n",
       "455.000      2134.851000         1\n",
       "460.000      2542.812050         1\n",
       "             2627.735300         1\n",
       "             6806.490000         1\n",
       "468.570      0.000000            1\n",
       "480.000      5569.393100         1\n",
       "500.000      144.289000          1\n",
       "             1223.860000         1\n",
       "             1354.830000         1\n",
       "             3665.381200         1\n",
       "             5483.817000         1\n",
       "             5589.180000         1\n",
       "             5597.250000         1\n",
       "             6281.330000         1\n",
       "             7024.853000         1\n",
       "             7381.070000         1\n",
       "510.000      2980.074750         1\n",
       "             4861.778950         1\n",
       "515.000      0.000000            1\n",
       "520.000      662.232200          1\n",
       "             2748.339250         1\n",
       "540.000      3357.140000         1\n",
       "             4288.680000         1\n",
       "             4868.206650         1\n",
       "555.000      3063.525400         1\n",
       "595.200      327.944000          1\n",
       "600.000      0.000000            1\n",
       "             549.370000          1\n",
       "             1202.450000         1\n",
       "             3421.496550         1\n",
       "             3722.056700         1\n",
       "             4078.340000         1\n",
       "             4648.562000         1\n",
       "             4852.581000         1\n",
       "             5187.432500         1\n",
       "             5262.340000         1\n",
       "             6352.375820         1\n",
       "             6788.072000         1\n",
       "             9299.580000         1\n",
       "             15239.000000        1\n",
       "605.000      5707.519300         1\n",
       "610.000      1048.241000         1\n",
       "630.000      4744.587000         1\n",
       "             7551.842000         1\n",
       "             7584.498000         1\n",
       "             8836.031100         1\n",
       "645.000      3044.000000         1\n",
       "648.000      2843.000000         1\n",
       "652.000      3337.000000         1\n",
       "655.000      537.410000          1\n",
       "660.000      2729.940000         1\n",
       "672.000      6586.686000         1\n",
       "690.000      6692.618750         1\n",
       "702.860      2.205850            1\n",
       "705.000      6705.000000         1\n",
       "720.000      0.000000            1\n",
       "             7790.633000         1\n",
       "726.600      3350.680000         1\n",
       "750.000      8801.000000         1\n",
       "             10865.320000        1\n",
       "770.000      2455.242100         1\n",
       "780.000      5206.815100         1\n",
       "815.600      2336.051050         1\n",
       "816.400      5777.000000         1\n",
       "840.000      11625.496000        1\n",
       "855.000      5869.256250         1\n",
       "880.000      11804.910000        1\n",
       "890.000      9702.785800         1\n",
       "900.000      2182.602150         1\n",
       "             3249.471000         1\n",
       "920.000      8580.866300         1\n",
       "             9592.499000         1\n",
       "990.000      6278.191300         1\n",
       "1000.000     0.000000            1\n",
       "             3125.269000         1\n",
       "             6587.477100         1\n",
       "             7048.560100         1\n",
       "             7751.078000         1\n",
       "             8849.221550         1\n",
       "             9835.980000         1\n",
       "             13284.303000        1\n",
       "             14811.830000        1\n",
       "1035.000     10794.685350        1\n",
       "1050.000     5622.269000         1\n",
       "             12274.180000        1\n",
       "             13509.507000        1\n",
       "             14295.946000        1\n",
       "1080.000     10252.980000        1\n",
       "             15156.000000        1\n",
       "1100.000     7049.100000         1\n",
       "1110.000     10605.680000        1\n",
       "1140.000     11444.154000        1\n",
       "1147.500     4749.000000         1\n",
       "1170.000     7077.971000         1\n",
       "1188.000     6731.351000         1\n",
       "1200.000     0.000000            1\n",
       "             268.055700          1\n",
       "             1780.811000         1\n",
       "             7086.540500         1\n",
       "             7481.942300         1\n",
       "             9506.587900         1\n",
       "             11255.000000        1\n",
       "             12392.670000        1\n",
       "             13711.040000        1\n",
       "             14141.000000        1\n",
       "             14746.420000        1\n",
       "1210.000     10216.068000        1\n",
       "1240.000     16536.529000        1\n",
       "1260.000     12041.943000        1\n",
       "             12590.900000        1\n",
       "             16385.400000        1\n",
       "1320.000     1225.871350         1\n",
       "             10838.000000        1\n",
       "             11972.420000        1\n",
       "1325.000     11421.047800        1\n",
       "1330.000     9724.301000         1\n",
       "1340.000     12751.230000        1\n",
       "             13537.472000        1\n",
       "             13970.224000        1\n",
       "             16132.307300        1\n",
       "1350.000     0.000000            1\n",
       "             2955.021000         1\n",
       "1371.200     2761.613700         1\n",
       "1400.000     5723.100000         1\n",
       "             18300.595000        1\n",
       "1458.000     1958.640000         1\n",
       "1470.000     11295.898000        1\n",
       "             20167.510000        1\n",
       "1500.000     9021.220000         1\n",
       "             11511.155000        1\n",
       "             13957.889850        1\n",
       "             17711.604000        1\n",
       "1550.000     14129.490000        1\n",
       "1600.000     6580.681000         1\n",
       "1650.000     12768.706000        1\n",
       "1660.000     6911.222000         1\n",
       "1700.000     11097.763000        1\n",
       "1720.000     18784.438000        1\n",
       "1800.000     4703.840000         1\n",
       "1820.000     23778.000000        1\n",
       "1956.000     6845.649750         1\n",
       "1967.080     1409.231355         1\n",
       "2000.000     28035.000000        1\n",
       "             28312.880000        1\n",
       "2100.000     24873.000000        1\n",
       "2320.000     2760.000000         1\n",
       "2340.000     27898.370000        1\n",
       "2400.000     2414.040000         1\n",
       "             4088.960000         1\n",
       "2600.000     37784.000000        1\n",
       "             38160.000000        1\n",
       "2630.000     16803.874000        1\n",
       "2920.000     21303.614000        1\n",
       "2980.000     38636.000000        1\n",
       "3000.000     36845.000000        1\n",
       "             42562.000000        1\n",
       "3300.000     25116.350000        1\n",
       "3960.000     17816.918250        1\n",
       "4000.000     46474.000000        1\n",
       "4620.000     55713.200000        1\n",
       "4760.000     54355.390000        1\n",
       "Name: total_generation, dtype: int64"
      ]
     },
     "execution_count": 74,
     "metadata": {},
     "output_type": "execute_result"
    }
   ],
   "source": [
    "df.groupby('capacity_mw')['total_generation'].value_counts()"
   ]
  },
  {
   "cell_type": "code",
   "execution_count": 79,
   "metadata": {
    "scrolled": false
   },
   "outputs": [
    {
     "data": {
      "text/plain": [
       "<AxesSubplot:xlabel='total_generation', ylabel='capacity_mw'>"
      ]
     },
     "execution_count": 79,
     "metadata": {},
     "output_type": "execute_result"
    },
    {
     "data": {
      "image/png": "[encoded data removed]",
      "text/plain": [
       "<Figure size 576x432 with 1 Axes>"
      ]
     },
     "metadata": {
      "needs_background": "light"
     },
     "output_type": "display_data"
    }
   ],
   "source": [
    "plt.figure(figsize=(8,6))\n",
    "sns.scatterplot(x='total_generation',y='capacity_mw',hue = 'primary_fuel',data=df)"
   ]
  },
  {
   "cell_type": "markdown",
   "metadata": {},
   "source": [
    "Here also we can see that coal is the leading fuel to generate more electricity for any of the powerplant. And most of them \n",
    "falls under 10000 generating capacity and total output."
   ]
  },
  {
   "cell_type": "markdown",
   "metadata": {},
   "source": [
    "### Primary fuel vs other fuel"
   ]
  },
  {
   "cell_type": "code",
   "execution_count": 81,
   "metadata": {},
   "outputs": [
    {
     "data": {
      "text/plain": [
       "primary_fuel  other_fuel1 \n",
       "Coal          Oil             189\n",
       "              Cogeneration      1\n",
       "Gas           Oil               7\n",
       "Oil           Gas               2\n",
       "Name: other_fuel1, dtype: int64"
      ]
     },
     "execution_count": 81,
     "metadata": {},
     "output_type": "execute_result"
    }
   ],
   "source": [
    "df.groupby('primary_fuel')['other_fuel1'].value_counts()"
   ]
  },
  {
   "cell_type": "markdown",
   "metadata": {},
   "source": [
    "here common between two are coal, oil nand gas "
   ]
  },
  {
   "cell_type": "code",
   "execution_count": 82,
   "metadata": {
    "scrolled": true
   },
   "outputs": [
    {
     "data": {
      "text/plain": [
       "Oil             196\n",
       "Gas               2\n",
       "Cogeneration      1\n",
       "Name: other_fuel1, dtype: int64"
      ]
     },
     "execution_count": 82,
     "metadata": {},
     "output_type": "execute_result"
    }
   ],
   "source": [
    "df['other_fuel1'].value_counts()"
   ]
  },
  {
   "cell_type": "code",
   "execution_count": 83,
   "metadata": {
    "scrolled": true
   },
   "outputs": [
    {
     "data": {
      "text/plain": [
       "Coal       259\n",
       "Hydro      250\n",
       "Solar      127\n",
       "Wind       123\n",
       "Gas         69\n",
       "Biomass     50\n",
       "Oil         21\n",
       "Nuclear      9\n",
       "Name: primary_fuel, dtype: int64"
      ]
     },
     "execution_count": 83,
     "metadata": {},
     "output_type": "execute_result"
    }
   ],
   "source": [
    "df['primary_fuel'].value_counts()"
   ]
  },
  {
   "cell_type": "markdown",
   "metadata": {},
   "source": [
    "in other fuel we are having three category of fuel while in primary fuel we are having total 8 category"
   ]
  },
  {
   "cell_type": "code",
   "execution_count": 85,
   "metadata": {
    "scrolled": true
   },
   "outputs": [
    {
     "data": {
      "text/plain": [
       "<AxesSubplot:xlabel='primary_fuel', ylabel='other_fuel1'>"
      ]
     },
     "execution_count": 85,
     "metadata": {},
     "output_type": "execute_result"
    },
    {
     "data": {
      "image/png": "[encoded data removed]",
      "text/plain": [
       "<Figure size 432x288 with 1 Axes>"
      ]
     },
     "metadata": {
      "needs_background": "light"
     },
     "output_type": "display_data"
    }
   ],
   "source": [
    "sns.scatterplot(x='primary_fuel',y='other_fuel1',data=df)"
   ]
  },
  {
   "cell_type": "markdown",
   "metadata": {},
   "source": [
    "With the help of scatter plot too we can see the common fuel between two which are oil coal and gas"
   ]
  },
  {
   "cell_type": "code",
   "execution_count": 87,
   "metadata": {
    "scrolled": true
   },
   "outputs": [
    {
     "data": {
      "text/plain": [
       "commissioning_year  primary_fuel\n",
       "1927.0              Hydro            1\n",
       "1937.0              Hydro            1\n",
       "1939.0              Hydro            1\n",
       "1943.0              Hydro            1\n",
       "1946.0              Hydro            1\n",
       "1949.0              Hydro            1\n",
       "1952.0              Hydro            2\n",
       "1953.0              Hydro            1\n",
       "1954.0              Hydro            1\n",
       "1955.0              Hydro            2\n",
       "1956.0              Hydro            1\n",
       "1957.0              Hydro            5\n",
       "1958.0              Hydro            1\n",
       "1959.0              Hydro            1\n",
       "1960.0              Hydro            3\n",
       "1961.0              Hydro            3\n",
       "1962.0              Hydro            3\n",
       "1963.0              Hydro            3\n",
       "1964.0              Hydro            2\n",
       "1965.0              Hydro            1\n",
       "                    Oil              1\n",
       "1966.0              Hydro            3\n",
       "                    Coal             1\n",
       "1967.0              Hydro            2\n",
       "1968.0              Hydro            3\n",
       "1969.0              Hydro            1\n",
       "1970.0              Hydro            4\n",
       "                    Coal             1\n",
       "1971.0              Hydro            2\n",
       "1972.0              Coal             1\n",
       "                    Nuclear          1\n",
       "1973.0              Hydro            3\n",
       "                    Coal             1\n",
       "1974.0              Coal             1\n",
       "                    Hydro            1\n",
       "1975.0              Hydro            4\n",
       "1976.0              Hydro            3\n",
       "                    Coal             2\n",
       "1977.0              Hydro            2\n",
       "                    Coal             1\n",
       "1978.0              Hydro            4\n",
       "                    Coal             1\n",
       "1979.0              Hydro            6\n",
       "1980.0              Hydro            5\n",
       "                    Coal             1\n",
       "1981.0              Hydro            3\n",
       "                    Coal             1\n",
       "1982.0              Hydro            2\n",
       "1983.0              Hydro            3\n",
       "                    Coal             1\n",
       "1984.0              Hydro            7\n",
       "                    Coal             2\n",
       "                    Nuclear          1\n",
       "1985.0              Hydro            3\n",
       "                    Coal             1\n",
       "1986.0              Hydro            5\n",
       "                    Coal             1\n",
       "1987.0              Hydro            7\n",
       "                    Coal             1\n",
       "1988.0              Hydro            5\n",
       "                    Coal             2\n",
       "                    Gas              1\n",
       "1989.0              Gas              3\n",
       "                    Coal             2\n",
       "                    Hydro            1\n",
       "1990.0              Coal             3\n",
       "                    Hydro            2\n",
       "                    Gas              1\n",
       "                    Nuclear          1\n",
       "                    Oil              1\n",
       "1991.0              Hydro            7\n",
       "                    Coal             3\n",
       "1992.0              Hydro            7\n",
       "                    Gas              2\n",
       "                    Coal             1\n",
       "                    Oil              1\n",
       "1993.0              Hydro            6\n",
       "                    Coal             4\n",
       "                    Gas              1\n",
       "                    Nuclear          1\n",
       "                    Oil              1\n",
       "1994.0              Hydro            7\n",
       "                    Gas              2\n",
       "                    Coal             1\n",
       "1995.0              Coal             6\n",
       "                    Hydro            4\n",
       "                    Gas              3\n",
       "1996.0              Hydro            8\n",
       "                    Coal             2\n",
       "                    Gas              2\n",
       "                    Nuclear          1\n",
       "1997.0              Hydro            4\n",
       "                    Gas              3\n",
       "                    Oil              1\n",
       "1998.0              Hydro            7\n",
       "                    Oil              2\n",
       "                    Gas              1\n",
       "1999.0              Hydro            6\n",
       "                    Gas              3\n",
       "                    Coal             2\n",
       "                    Oil              2\n",
       "2000.0              Coal             6\n",
       "                    Hydro            6\n",
       "                    Oil              2\n",
       "                    Gas              1\n",
       "                    Nuclear          1\n",
       "2001.0              Hydro            5\n",
       "                    Coal             4\n",
       "                    Gas              4\n",
       "                    Oil              2\n",
       "2002.0              Coal             7\n",
       "                    Hydro            6\n",
       "                    Gas              2\n",
       "2003.0              Hydro            4\n",
       "                    Coal             3\n",
       "                    Gas              3\n",
       "2004.0              Hydro            5\n",
       "                    Coal             3\n",
       "                    Gas              1\n",
       "                    Nuclear          1\n",
       "2005.0              Coal             4\n",
       "                    Gas              3\n",
       "                    Hydro            3\n",
       "2006.0              Hydro            7\n",
       "                    Gas              2\n",
       "                    Coal             1\n",
       "2007.0              Coal             4\n",
       "                    Hydro            4\n",
       "                    Gas              2\n",
       "2008.0              Coal             3\n",
       "                    Gas              3\n",
       "                    Hydro            3\n",
       "2009.0              Coal             6\n",
       "                    Gas              3\n",
       "                    Hydro            1\n",
       "2010.0              Coal            12\n",
       "                    Hydro            3\n",
       "                    Gas              2\n",
       "2011.0              Coal            10\n",
       "                    Hydro            2\n",
       "                    Solar            1\n",
       "2012.0              Coal            15\n",
       "                    Hydro            5\n",
       "                    Gas              3\n",
       "2013.0              Coal            17\n",
       "                    Hydro            6\n",
       "                    Solar            3\n",
       "                    Gas              2\n",
       "2014.0              Coal            12\n",
       "                    Solar            3\n",
       "                    Gas              1\n",
       "                    Hydro            1\n",
       "2015.0              Coal            17\n",
       "                    Hydro            5\n",
       "                    Gas              2\n",
       "                    Nuclear          1\n",
       "                    Solar            1\n",
       "2016.0              Coal            15\n",
       "                    Gas              3\n",
       "                    Hydro            3\n",
       "2017.0              Hydro            8\n",
       "                    Coal             6\n",
       "2018.0              Coal             2\n",
       "                    Hydro            1\n",
       "Name: primary_fuel, dtype: int64"
      ]
     },
     "execution_count": 87,
     "metadata": {},
     "output_type": "execute_result"
    }
   ],
   "source": [
    "df.groupby('commissioning_year')['primary_fuel'].value_counts()"
   ]
  },
  {
   "cell_type": "markdown",
   "metadata": {},
   "source": [
    "As we can see above that with the time power plant has increased the fuel type. started in 1927 most of the power plant were using\n",
    "only Hydro and by 2018 most used fuels are coal and hydro. But most primary fuel items were used from 1990 till 2015 and after that \n",
    "again it has been limited to hydro and coal"
   ]
  },
  {
   "cell_type": "code",
   "execution_count": 91,
   "metadata": {
    "scrolled": false
   },
   "outputs": [
    {
     "data": {
      "text/plain": [
       "<seaborn.axisgrid.FacetGrid at 0x7f96e1b12b50>"
      ]
     },
     "execution_count": 91,
     "metadata": {},
     "output_type": "execute_result"
    },
    {
     "data": {
      "text/plain": [
       "<Figure size 576x432 with 0 Axes>"
      ]
     },
     "metadata": {},
     "output_type": "display_data"
    },
    {
     "data": {
      "image/png": "[encoded data removed]",
      "text/plain": [
       "<Figure size 438x360 with 1 Axes>"
      ]
     },
     "metadata": {
      "needs_background": "light"
     },
     "output_type": "display_data"
    }
   ],
   "source": [
    "plt.figure(figsize=(8,6))\n",
    "sns.relplot(x='commissioning_year',y = 'primary_fuel',hue = 'primary_fuel',data=df)"
   ]
  },
  {
   "cell_type": "markdown",
   "metadata": {},
   "source": [
    "hydro is the most used fuel in these years for generating electricity by any of the powerplant in India and the least used fuel\n",
    "is solar "
   ]
  },
  {
   "cell_type": "code",
   "execution_count": 101,
   "metadata": {},
   "outputs": [
    {
     "data": {
      "text/plain": [
       "primary_fuel  owner                                                      \n",
       "Biomass       Shree Sugars ltd                                               3\n",
       "              Shri Ssk ltd                                                   3\n",
       "              Nsl Sugars ltd                                                 2\n",
       "              Ashok Ssk ltd                                                  1\n",
       "              Bannari Sugars ltd                                             1\n",
       "              Core Fuels ltd                                                 1\n",
       "              Datta Ssk ltd                                                  1\n",
       "              Daund Sugar ltd                                                1\n",
       "              Davangere Co ltd                                               1\n",
       "              Dr Ssk ltd                                                     1\n",
       "              Gangakhed Energy ltd                                           1\n",
       "              Gem Sugars ltd                                                 1\n",
       "              Gm Energy ltd                                                  1\n",
       "              Gmt Pvt ltd                                                    1\n",
       "              Godavari Mills ltd                                             1\n",
       "              Godawari Energy ltd                                            1\n",
       "              Hemarus Technologies ltd                                       1\n",
       "              Indian Power ltd                                               1\n",
       "              Jawahar Ssk ltd                                                1\n",
       "              Kranti Ssk ltd                                                 1\n",
       "              Kumbhi Ssk ltd                                                 1\n",
       "              Lokmangal Lokmangal group                                      1\n",
       "              Mahatma Power ltd                                              1\n",
       "              Mula Ssk ltd                                                   1\n",
       "              Natural Alliend indust                                         1\n",
       "              Orient Power ltd                                               1\n",
       "              Purna Ssk ltd                                                  1\n",
       "              Purti Sugar ltd                                                1\n",
       "              Rk Pvt ltd                                                     1\n",
       "              Sahakar Shiromani vasantrao                                    1\n",
       "              Sahakarmaharshi Bhausaheb thor                                 1\n",
       "              Sangam Spinners ltd                                            1\n",
       "              Shamanur Sugars ltd                                            1\n",
       "              Shri Hiranyakeshi ssk                                          1\n",
       "              Shri Malaprabha ssk                                            1\n",
       "              Shri Vedganga ssk                                              1\n",
       "              Sinewave Pvt ltd                                               1\n",
       "              Spr Pvt ltd                                                    1\n",
       "              Sri Sugars ltd                                                 1\n",
       "              Ugar Works ltd                                                 1\n",
       "              Varam Pvt ltd                                                  1\n",
       "              Vasantdada Ssk ltd                                             1\n",
       "              Vishwanath Sugars ltd                                          1\n",
       "              Yashwantrao Krishna ssk                                        1\n",
       "              Ym Ssk ltd                                                     1\n",
       "Coal          Acc Acc ltd                                                    4\n",
       "              Jk Cement ltd                                                  4\n",
       "              Hindustan Zinc ltd                                             3\n",
       "              Jaypee Ltd jccl)                                               3\n",
       "              Ambuja Cements ltd                                             2\n",
       "              Ballarpur Industries ltd                                       2\n",
       "              Birla Corp ltd                                                 2\n",
       "              Lloyds Industries ltd                                          2\n",
       "              Shree Cement ltd                                               2\n",
       "              Ultratech Cement ltd                                           2\n",
       "              Vardham Vardham group                                          2\n",
       "              Bharat Refinery ltd                                            1\n",
       "              Binani Industries ltd                                          1\n",
       "              Bmm Pvt ltd                                                    1\n",
       "              Chettinad Corp ltd                                             1\n",
       "              Dcm & chem                                                     1\n",
       "              Dcm Industries ltd                                             1\n",
       "              Dhariwal Pvt ltd                                               1\n",
       "              Grace Industries ltd                                           1\n",
       "              Grasim Cement ltd                                              1\n",
       "              Grasim Industries ltd                                          1\n",
       "              Greta Energy ltd                                               1\n",
       "              Gupta Ltd gepl)                                                1\n",
       "              Hare Pvt ltd                                                   1\n",
       "              Hindustan Pvt lt                                               1\n",
       "              Hothur Pvt ltd                                                 1\n",
       "              Ideal Projects ltd                                             1\n",
       "              India Ltd icl)                                                 1\n",
       "              Jai Industries ltd                                             1\n",
       "              Janki Corp ltd                                                 1\n",
       "              Kesoram Industries ltd                                         1\n",
       "              Kjs Ahluwalia group                                            1\n",
       "              Maihar Cement ltd                                              1\n",
       "              Manglam Cement ltd                                             1\n",
       "              Manikgarh Manikgarh cement                                     1\n",
       "              Manikghar Cement co                                            1\n",
       "              Maral Overseas ltd                                             1\n",
       "              Mukesh Gupta group                                             1\n",
       "              Mysore Mills ltd                                               1\n",
       "              National And paper                                             1\n",
       "              Nitin Spinners ltd                                             1\n",
       "              Orient Cement ltd                                              1\n",
       "              Rattanindia Power ltd                                          1\n",
       "              Reliance Power ltd                                             1\n",
       "              Rswm Rswm ltd                                                  1\n",
       "              Sinarmas Paper ltd                                             1\n",
       "              Sunflag Co ltd                                                 1\n",
       "              Surana Industries ltd                                          1\n",
       "              Technocraft Technocraft group                                  1\n",
       "              Topworth Metals ltd                                            1\n",
       "              Uttam Steels ltd                                               1\n",
       "              Vikram Vikram cement                                           1\n",
       "Gas           Ongc Gas corp                                                  2\n",
       "              Rashtriya & fert                                               2\n",
       "              Bharat Corp ltd                                                1\n",
       "              Chambal & chem                                                 1\n",
       "              Mangalore & petrochem                                          1\n",
       "              National Ltd nfl)                                              1\n",
       "              Reliance Ltd ril)                                              1\n",
       "              West Coast Paper Mills Ltd.                                    1\n",
       "Oil           Jsw Steel ltd                                                  2\n",
       "              Bharat Corp ltd                                                1\n",
       "              Indo Synthetics ltd                                            1\n",
       "              Mukand Mukand ltd                                              1\n",
       "              Nocil Nocil rubber                                             1\n",
       "              Reliance Reliance petrochemicals                               1\n",
       "              Tata Co ltd                                                    1\n",
       "Solar         Government of India                                            3\n",
       "              Karnataka Power Corporation Limited                            3\n",
       "              Maharashtra State Power Generation Co Ltd (MAHAGENCO)          3\n",
       "              Tata Power Solar Systems Limited (TPREL)                       3\n",
       "              Ujaas Energy Limited                                           3\n",
       "              Adani Power Limited                                            2\n",
       "              Azure Power (Rajasthan) Private Limited                        2\n",
       "              Giriraj Enterprises                                            2\n",
       "              Green Infra Solar Farms Private Limited (GIS)                  2\n",
       "              National Thermal Power Corporation (NTPC)                      2\n",
       "              Reliance Power Limited                                         2\n",
       "              SunBorne Energy Gujarat                                        2\n",
       "              Welspun Solar Punjab Private Limited                           2\n",
       "              ACME Cleantech Solutions Private Limited                       1\n",
       "              ACME Solar Energy                                              1\n",
       "              AEW Infratech Private Limited                                  1\n",
       "              Abellon CleanEnergy Limited                                    1\n",
       "              Aftaab Solar Private Limited (ASPL)                            1\n",
       "              Alex Green Energy Private Limited                              1\n",
       "              Alex Spectrum Radiations Private Limited                       1\n",
       "              Alianz Eco Power Private Limited                               1\n",
       "              Amrit Energy Private Limited                                   1\n",
       "              Aravali Infrapower Private Limited (AIPL)                      1\n",
       "              Astonfield Management Limited                                  1\n",
       "              Atma Powers Private Limited                                    1\n",
       "              Azure Urja Private Limited                                     1\n",
       "              Backbone Enterprises Limited                                   1\n",
       "              Cargo Solar Power                                              1\n",
       "              Charanka Solar Park                                            1\n",
       "              Citra Real Estate Limited                                      1\n",
       "              Clover Solar Private Limited (CSPL)                            1\n",
       "              Conflux Infratech Private Limited                              1\n",
       "              DDE Renewable Energy Private Limited (DREPL)                   1\n",
       "              Dr Babasaheb Ambedkar SSK Limited                              1\n",
       "              EMC Limited                                                    1\n",
       "              Electromech Maritech Private Limited                           1\n",
       "              Ener-t International Ltd.                                      1\n",
       "              Essel Clean Energy Limited                                     1\n",
       "              Essel MP Energy Limited                                        1\n",
       "              Finehope Allied Engineering Private Limited                    1\n",
       "              Firestone Trading Private Limited                              1\n",
       "              Ganges Enterprises Private Limited                             1\n",
       "              Godawari Green Energy Limited (GGEL)                           1\n",
       "              Godwari Green Energy Limited                                   1\n",
       "              Gujarat Industries Power Company Limited (GIPCL)               1\n",
       "              Gujarat Mineral Development Corporation Limited (GMDC)         1\n",
       "              Gujarat Urja Vikas Nigam Limited                               1\n",
       "              Harsha Engineers Limited                                       1\n",
       "              Hiraco Renewable Energy Private Limited (HREPL)                1\n",
       "              IK Energy Private Limited                                      1\n",
       "              Indian Oil Corporation (IOC)                                   1\n",
       "              Integrated Coal Mining (ICML)                                  1\n",
       "              Jain Solar                                                     1\n",
       "              KVK Energy Ventures Ltd                                        1\n",
       "              Khaya Solar Projects Private Limited                           1\n",
       "              Konark Gujarat Private Limited                                 1\n",
       "              LEPL Projects Limited                                          1\n",
       "              Lanco Infratech                                                1\n",
       "              Lanco Solar Energy Private Limited                             1\n",
       "              Lanco Solar Power Limited                                      1\n",
       "              MEIL Green Power Limited                                       1\n",
       "              Madhav Solar Private Limited                                   1\n",
       "              Megha Engineering and Infrastructure                           1\n",
       "              Mono Steel (India) Ltd                                         1\n",
       "              Moser Baer Clean Energy Limited (MBCEL)                        1\n",
       "              Moser Baer Energy & Development Limited (MBEDL)                1\n",
       "              Moser Baer Solar Limited (MBSL)                                1\n",
       "              National Thermal Power Corporation (NTPC) Limited              1\n",
       "              Nav Bharat Buildcon Private Limited                            1\n",
       "              Newton Solar Private Limited                                   1\n",
       "              Nexgen Solux Private Limited                                   1\n",
       "              Northern Solaire Prakash Private Limited                       1\n",
       "              Northwest Energy Private Limited (NWEPL)                       1\n",
       "              OPG Energy Private Limited                                     1\n",
       "              Omega Solar Projects Private Limited                           1\n",
       "              Pandit Deendayal Petrolium University (PDPU)                   1\n",
       "              Precious Energy Services Pvt Ltd                               1\n",
       "              Precision Technik Private Limited                              1\n",
       "              Punj Lloyd Solar Private Limited                               1\n",
       "              Raajratna Energy Holdings Private Limited (REHPL)              1\n",
       "              Rajasthan Renewable Energy Corporation Limited (RREC)          1\n",
       "              Rays Power Private Limited                                     1\n",
       "              Reliance Power                                                 1\n",
       "              S J Green Park Energy Private Limited                          1\n",
       "              SEI Solar Energy Private Limited                               1\n",
       "              Saidham Overseas Private Limited                               1\n",
       "              Sand Land Real Estates Pvt Ltd                                 1\n",
       "              Sanjeev Prakashan                                              1\n",
       "              Sepset Construction Limited                                    1\n",
       "              Shree Saibaba Green Power Private Limited                      1\n",
       "              Solaer                                                         1\n",
       "              Solairedirect Projects India Private Limited                   1\n",
       "              Solar Energy Centre                                            1\n",
       "              Solar Paces                                                    1\n",
       "              Solitaire Energies Pvt Ltd                                     1\n",
       "              Sovox Renewables Private Limited                               1\n",
       "              SunBorne Energy Gujarat One Pvt                                1\n",
       "              Sunkon Energy Private Limited                                  1\n",
       "              Suryauday Solaire Prakash Private Limited                      1\n",
       "              Tata BP Solar India Limited                                    1\n",
       "              Taxus Infrastructure and Power Projects Pvt Ltd                1\n",
       "              Unity Power Limited                                            1\n",
       "              Vasavi Solar Power Private Limited                             1\n",
       "              Videocon Industries Limited                                    1\n",
       "              Vivek Pharmachem (India) Limited                               1\n",
       "              Welspun Solar AP Private Limited                               1\n",
       "              Welspun Urja India Limited                                     1\n",
       "              West Bengal Energy Development Corporation Limited (WBEDCL)    1\n",
       "              Zamil New Delhi Infrastructure Private Limited                 1\n",
       "Wind          Sterling Agro Industries ltd.                                  4\n",
       "              Enercon India Ltd.                                             3\n",
       "              Powerica Limited                                               3\n",
       "              SWPPL                                                          3\n",
       "              Shree Naman Developers Ltd.                                    3\n",
       "              Green Infra Wind Power Projects Limited                        2\n",
       "              Hindustan Zinc Ltd.                                            2\n",
       "              Loyal Textile Mills Limited                                    2\n",
       "              Patnaik Minerals Pvt. Ltd                                      2\n",
       "              Serum Institute of India Limited                               2\n",
       "              Sumilon Industries Limited                                     2\n",
       "              TVS Energy Limited                                             2\n",
       "              AES                                                            1\n",
       "              Bangalore Electricity Supply Company Limited                   1\n",
       "              Bharat Petroleum Corporation Limited                           1\n",
       "              Bhilwara Energy Limited                                        1\n",
       "              Bhoruka Power                                                  1\n",
       "              Bindu Vau Urja Private Limited                                 1\n",
       "              Centaur Mercantile Pvt. Ltd.                                   1\n",
       "              EMCO Limited                                                   1\n",
       "              Energy Infratech Private Limited                               1\n",
       "              Fortune Five Hydel Projects Limited                            1\n",
       "              Frost International Limited                                    1\n",
       "              GFL                                                            1\n",
       "              Gujurat Alkalies and Chemicals Limited                         1\n",
       "              HZL                                                            1\n",
       "              IL&FS Wind Power Limited                                       1\n",
       "              India Oil Corporation Limited                                  1\n",
       "              Jodhpur Vidyut Vitran Nigam Limited                            1\n",
       "              K. N. Ram                                                      1\n",
       "              KS Oils                                                        1\n",
       "              Karur Textile Park limited                                     1\n",
       "              Kohinoor Planet Construction Pvt. Ltd                          1\n",
       "              LNJ Power Ventures Limited                                     1\n",
       "              Liberty Oil Mills Limited                                      1\n",
       "              MSPL                                                           1\n",
       "              Madras Cement Limited                                          1\n",
       "              Mytrah Energy (India) Limited                                  1\n",
       "              NMDC                                                           1\n",
       "              NuPower                                                        1\n",
       "              Nuziveedu Seeds limited                                        1\n",
       "              REI Agro Limited                                               1\n",
       "              Rajasthan State Mines and Minerals Limited                     1\n",
       "              Ratedi Wind Power Private Limited                              1\n",
       "              Rayala Wind Power Company Private Limited                      1\n",
       "              Relaxo Footwears Limited                                       1\n",
       "              Riddhi Siddhi Gluco Biols Limited                              1\n",
       "              Roaring 40's Wind Farms Private Limited                        1\n",
       "              Rucha Soya Industries Limited                                  1\n",
       "              Sai Sulphonates                                                1\n",
       "              TVS Energy limited                                             1\n",
       "              Tadas Wind Energy                                              1\n",
       "              Tadas Wind Energy Private Limited                              1\n",
       "              Tata Power                                                     1\n",
       "              Torrent Power Limited                                          1\n",
       "              Tratnagiri Wind Power Projects Private Limited                 1\n",
       "              UPL                                                            1\n",
       "              Vaayu Renew                                                    1\n",
       "              Weizzmann Forex Limited                                        1\n",
       "              iEnergy Wind Farms                                             1\n",
       "Name: owner, dtype: int64"
      ]
     },
     "execution_count": 101,
     "metadata": {},
     "output_type": "execute_result"
    }
   ],
   "source": [
    "df.groupby('primary_fuel')['owner'].value_counts()"
   ]
  },
  {
   "cell_type": "markdown",
   "metadata": {},
   "source": [
    "Coal, solar and wind are the most used fuel by any f the owner of powerplant "
   ]
  },
  {
   "cell_type": "markdown",
   "metadata": {},
   "source": [
    "## Data Cleaning"
   ]
  },
  {
   "cell_type": "markdown",
   "metadata": {},
   "source": [
    "### Filling missing values "
   ]
  },
  {
   "cell_type": "code",
   "execution_count": 106,
   "metadata": {
    "scrolled": true
   },
   "outputs": [
    {
     "data": {
      "text/plain": [
       "Index(['name', 'capacity_mw', 'latitude', 'longitude', 'primary_fuel',\n",
       "       'other_fuel1', 'commissioning_year', 'owner', 'source',\n",
       "       'year_of_capacity_data', 'generation_data_source', 'total_generation'],\n",
       "      dtype='object')"
      ]
     },
     "execution_count": 106,
     "metadata": {},
     "output_type": "execute_result"
    }
   ],
   "source": [
    "df.columns"
   ]
  },
  {
   "cell_type": "code",
   "execution_count": 127,
   "metadata": {
    "scrolled": true
   },
   "outputs": [
    {
     "data": {
      "text/plain": [
       "name                        0\n",
       "capacity_mw                 0\n",
       "latitude                    0\n",
       "longitude                   0\n",
       "primary_fuel                0\n",
       "other_fuel1                 0\n",
       "commissioning_year          0\n",
       "owner                     566\n",
       "source                      0\n",
       "generation_data_source      0\n",
       "total_generation            0\n",
       "dtype: int64"
      ]
     },
     "execution_count": 127,
     "metadata": {},
     "output_type": "execute_result"
    }
   ],
   "source": [
    "df_new.isna().sum()"
   ]
  },
  {
   "cell_type": "code",
   "execution_count": 119,
   "metadata": {
    "scrolled": true
   },
   "outputs": [
    {
     "data": {
      "text/plain": [
       "array([  nan, 2018.])"
      ]
     },
     "execution_count": 119,
     "metadata": {},
     "output_type": "execute_result"
    }
   ],
   "source": [
    "df['year_of_capacity_data'].unique()"
   ]
  },
  {
   "cell_type": "code",
   "execution_count": 120,
   "metadata": {},
   "outputs": [],
   "source": [
    "# Deleting year of capacity data as having commencing year and might be a chance of multicollinearity \n",
    "df_new.drop(columns=['year_of_capacity_data'],inplace=True)"
   ]
  },
  {
   "cell_type": "code",
   "execution_count": 108,
   "metadata": {},
   "outputs": [
    {
     "data": {
      "text/plain": [
       "array([nan, 'Oil', 'Cogeneration', 'Gas'], dtype=object)"
      ]
     },
     "execution_count": 108,
     "metadata": {},
     "output_type": "execute_result"
    }
   ],
   "source": [
    "df['other_fuel1'].unique()"
   ]
  },
  {
   "cell_type": "code",
   "execution_count": 110,
   "metadata": {
    "scrolled": true
   },
   "outputs": [
    {
     "data": {
      "text/html": [
       "<div>\n",
       "<style scoped>\n",
       "    .dataframe tbody tr th:only-of-type {\n",
       "        vertical-align: middle;\n",
       "    }\n",
       "\n",
       "    .dataframe tbody tr th {\n",
       "        vertical-align: top;\n",
       "    }\n",
       "\n",
       "    .dataframe thead th {\n",
       "        text-align: right;\n",
       "    }\n",
       "</style>\n",
       "<table border=\"1\" class=\"dataframe\">\n",
       "  <thead>\n",
       "    <tr style=\"text-align: right;\">\n",
       "      <th></th>\n",
       "      <th>name</th>\n",
       "      <th>capacity_mw</th>\n",
       "      <th>latitude</th>\n",
       "      <th>longitude</th>\n",
       "      <th>primary_fuel</th>\n",
       "      <th>other_fuel1</th>\n",
       "      <th>commissioning_year</th>\n",
       "      <th>owner</th>\n",
       "      <th>source</th>\n",
       "      <th>year_of_capacity_data</th>\n",
       "      <th>generation_data_source</th>\n",
       "      <th>total_generation</th>\n",
       "    </tr>\n",
       "  </thead>\n",
       "  <tbody>\n",
       "    <tr>\n",
       "      <th>0</th>\n",
       "      <td>ACME Solar Tower</td>\n",
       "      <td>2.5</td>\n",
       "      <td>28.1839</td>\n",
       "      <td>73.2407</td>\n",
       "      <td>Solar</td>\n",
       "      <td>NaN</td>\n",
       "      <td>2011.0</td>\n",
       "      <td>Solar Paces</td>\n",
       "      <td>National Renewable Energy Laboratory</td>\n",
       "      <td>NaN</td>\n",
       "      <td>NaN</td>\n",
       "      <td>NaN</td>\n",
       "    </tr>\n",
       "    <tr>\n",
       "      <th>1</th>\n",
       "      <td>ADITYA CEMENT WORKS</td>\n",
       "      <td>98.0</td>\n",
       "      <td>24.7663</td>\n",
       "      <td>74.6090</td>\n",
       "      <td>Coal</td>\n",
       "      <td>NaN</td>\n",
       "      <td>NaN</td>\n",
       "      <td>Ultratech Cement ltd</td>\n",
       "      <td>Ultratech Cement ltd</td>\n",
       "      <td>NaN</td>\n",
       "      <td>NaN</td>\n",
       "      <td>NaN</td>\n",
       "    </tr>\n",
       "    <tr>\n",
       "      <th>2</th>\n",
       "      <td>AES Saurashtra Windfarms</td>\n",
       "      <td>39.2</td>\n",
       "      <td>21.9038</td>\n",
       "      <td>69.3732</td>\n",
       "      <td>Wind</td>\n",
       "      <td>NaN</td>\n",
       "      <td>NaN</td>\n",
       "      <td>AES</td>\n",
       "      <td>CDM</td>\n",
       "      <td>NaN</td>\n",
       "      <td>NaN</td>\n",
       "      <td>NaN</td>\n",
       "    </tr>\n",
       "    <tr>\n",
       "      <th>3</th>\n",
       "      <td>AGARTALA GT</td>\n",
       "      <td>135.0</td>\n",
       "      <td>23.8712</td>\n",
       "      <td>91.3602</td>\n",
       "      <td>Gas</td>\n",
       "      <td>NaN</td>\n",
       "      <td>2004.0</td>\n",
       "      <td>NaN</td>\n",
       "      <td>Central Electricity Authority</td>\n",
       "      <td>2018.0</td>\n",
       "      <td>Central Electricity Authority</td>\n",
       "      <td>1249.567192</td>\n",
       "    </tr>\n",
       "    <tr>\n",
       "      <th>4</th>\n",
       "      <td>AKALTARA TPP</td>\n",
       "      <td>1800.0</td>\n",
       "      <td>21.9603</td>\n",
       "      <td>82.4091</td>\n",
       "      <td>Coal</td>\n",
       "      <td>Oil</td>\n",
       "      <td>2015.0</td>\n",
       "      <td>NaN</td>\n",
       "      <td>Central Electricity Authority</td>\n",
       "      <td>2018.0</td>\n",
       "      <td>Central Electricity Authority</td>\n",
       "      <td>4703.840000</td>\n",
       "    </tr>\n",
       "  </tbody>\n",
       "</table>\n",
       "</div>"
      ],
      "text/plain": [
       "                       name  capacity_mw  latitude  longitude primary_fuel  \\\n",
       "0          ACME Solar Tower          2.5   28.1839    73.2407        Solar   \n",
       "1       ADITYA CEMENT WORKS         98.0   24.7663    74.6090         Coal   \n",
       "2  AES Saurashtra Windfarms         39.2   21.9038    69.3732         Wind   \n",
       "3               AGARTALA GT        135.0   23.8712    91.3602          Gas   \n",
       "4              AKALTARA TPP       1800.0   21.9603    82.4091         Coal   \n",
       "\n",
       "  other_fuel1  commissioning_year                 owner  \\\n",
       "0         NaN              2011.0           Solar Paces   \n",
       "1         NaN                 NaN  Ultratech Cement ltd   \n",
       "2         NaN                 NaN                   AES   \n",
       "3         NaN              2004.0                   NaN   \n",
       "4         Oil              2015.0                   NaN   \n",
       "\n",
       "                                 source  year_of_capacity_data  \\\n",
       "0  National Renewable Energy Laboratory                    NaN   \n",
       "1                  Ultratech Cement ltd                    NaN   \n",
       "2                                   CDM                    NaN   \n",
       "3         Central Electricity Authority                 2018.0   \n",
       "4         Central Electricity Authority                 2018.0   \n",
       "\n",
       "          generation_data_source  total_generation  \n",
       "0                            NaN               NaN  \n",
       "1                            NaN               NaN  \n",
       "2                            NaN               NaN  \n",
       "3  Central Electricity Authority       1249.567192  \n",
       "4  Central Electricity Authority       4703.840000  "
      ]
     },
     "execution_count": 110,
     "metadata": {},
     "output_type": "execute_result"
    }
   ],
   "source": [
    "# Replacing all null values of categorical column to nan\n",
    "df_new = df.replace(' ?',np.nan)\n",
    "df_new.head()"
   ]
  },
  {
   "cell_type": "code",
   "execution_count": 112,
   "metadata": {},
   "outputs": [],
   "source": [
    "df_new['latitude']=df_new['latitude'].replace(np.NaN,df_new['latitude'].mean())"
   ]
  },
  {
   "cell_type": "code",
   "execution_count": 114,
   "metadata": {
    "scrolled": true
   },
   "outputs": [],
   "source": [
    "df_new['longitude']=df_new['longitude'].replace(np.NaN,df_new['longitude'].mean())\n",
    "df_new['total_generation']=df_new['total_generation'].replace(np.NaN,df_new['total_generation'].mean())"
   ]
  },
  {
   "cell_type": "code",
   "execution_count": 126,
   "metadata": {},
   "outputs": [],
   "source": [
    "df_new['commissioning_year']=df_new['commissioning_year'].replace(np.NaN,df_new['commissioning_year'].mean())"
   ]
  },
  {
   "cell_type": "code",
   "execution_count": 121,
   "metadata": {},
   "outputs": [],
   "source": [
    "df_new['other_fuel1']=df_new['other_fuel1'].replace(np.NaN,df_new['other_fuel1'].mode()[0])\n",
    "df_new['generation_data_source']=df_new['generation_data_source'].replace(np.NaN,df_new['generation_data_source'].mode()[0])"
   ]
  },
  {
   "cell_type": "code",
   "execution_count": 130,
   "metadata": {
    "scrolled": false
   },
   "outputs": [],
   "source": [
    "# Deleting owner column as having source \n",
    "df_new.drop(columns=['owner'],inplace=True)"
   ]
  },
  {
   "cell_type": "code",
   "execution_count": 131,
   "metadata": {},
   "outputs": [
    {
     "data": {
      "text/plain": [
       "(908, 10)"
      ]
     },
     "execution_count": 131,
     "metadata": {},
     "output_type": "execute_result"
    }
   ],
   "source": [
    "df_new.shape"
   ]
  },
  {
   "cell_type": "code",
   "execution_count": 132,
   "metadata": {},
   "outputs": [],
   "source": [
    "df_index=np.where(df['primary_fuel'].isnull()==True)"
   ]
  },
  {
   "cell_type": "code",
   "execution_count": 133,
   "metadata": {},
   "outputs": [
    {
     "data": {
      "text/html": [
       "<div>\n",
       "<style scoped>\n",
       "    .dataframe tbody tr th:only-of-type {\n",
       "        vertical-align: middle;\n",
       "    }\n",
       "\n",
       "    .dataframe tbody tr th {\n",
       "        vertical-align: top;\n",
       "    }\n",
       "\n",
       "    .dataframe thead th {\n",
       "        text-align: right;\n",
       "    }\n",
       "</style>\n",
       "<table border=\"1\" class=\"dataframe\">\n",
       "  <thead>\n",
       "    <tr style=\"text-align: right;\">\n",
       "      <th></th>\n",
       "      <th>name</th>\n",
       "      <th>capacity_mw</th>\n",
       "      <th>latitude</th>\n",
       "      <th>longitude</th>\n",
       "      <th>primary_fuel</th>\n",
       "      <th>other_fuel1</th>\n",
       "      <th>commissioning_year</th>\n",
       "      <th>source</th>\n",
       "      <th>year_of_capacity_data</th>\n",
       "      <th>generation_data_source</th>\n",
       "      <th>total_generation</th>\n",
       "    </tr>\n",
       "  </thead>\n",
       "  <tbody>\n",
       "  </tbody>\n",
       "</table>\n",
       "</div>"
      ],
      "text/plain": [
       "Empty DataFrame\n",
       "Columns: [name, capacity_mw, latitude, longitude, primary_fuel, other_fuel1, commissioning_year, source, year_of_capacity_data, generation_data_source, total_generation]\n",
       "Index: []"
      ]
     },
     "execution_count": 133,
     "metadata": {},
     "output_type": "execute_result"
    }
   ],
   "source": [
    "new_df = df.loc[df_index]\n",
    "new_df"
   ]
  },
  {
   "cell_type": "markdown",
   "metadata": {},
   "source": [
    "no null values "
   ]
  },
  {
   "cell_type": "markdown",
   "metadata": {},
   "source": [
    "# Feature Engineering"
   ]
  },
  {
   "cell_type": "code",
   "execution_count": 134,
   "metadata": {
    "scrolled": false
   },
   "outputs": [
    {
     "data": {
      "text/html": [
       "<div>\n",
       "<style scoped>\n",
       "    .dataframe tbody tr th:only-of-type {\n",
       "        vertical-align: middle;\n",
       "    }\n",
       "\n",
       "    .dataframe tbody tr th {\n",
       "        vertical-align: top;\n",
       "    }\n",
       "\n",
       "    .dataframe thead th {\n",
       "        text-align: right;\n",
       "    }\n",
       "</style>\n",
       "<table border=\"1\" class=\"dataframe\">\n",
       "  <thead>\n",
       "    <tr style=\"text-align: right;\">\n",
       "      <th></th>\n",
       "      <th>name</th>\n",
       "      <th>capacity_mw</th>\n",
       "      <th>latitude</th>\n",
       "      <th>longitude</th>\n",
       "      <th>primary_fuel</th>\n",
       "      <th>other_fuel1</th>\n",
       "      <th>commissioning_year</th>\n",
       "      <th>source</th>\n",
       "      <th>generation_data_source</th>\n",
       "      <th>total_generation</th>\n",
       "    </tr>\n",
       "  </thead>\n",
       "  <tbody>\n",
       "    <tr>\n",
       "      <th>0</th>\n",
       "      <td>ACME Solar Tower</td>\n",
       "      <td>2.5</td>\n",
       "      <td>28.1839</td>\n",
       "      <td>73.2407</td>\n",
       "      <td>Solar</td>\n",
       "      <td>Oil</td>\n",
       "      <td>2011.000000</td>\n",
       "      <td>National Renewable Energy Laboratory</td>\n",
       "      <td>Central Electricity Authority</td>\n",
       "      <td>4803.186746</td>\n",
       "    </tr>\n",
       "    <tr>\n",
       "      <th>1</th>\n",
       "      <td>ADITYA CEMENT WORKS</td>\n",
       "      <td>98.0</td>\n",
       "      <td>24.7663</td>\n",
       "      <td>74.6090</td>\n",
       "      <td>Coal</td>\n",
       "      <td>Oil</td>\n",
       "      <td>1996.876894</td>\n",
       "      <td>Ultratech Cement ltd</td>\n",
       "      <td>Central Electricity Authority</td>\n",
       "      <td>4803.186746</td>\n",
       "    </tr>\n",
       "    <tr>\n",
       "      <th>2</th>\n",
       "      <td>AES Saurashtra Windfarms</td>\n",
       "      <td>39.2</td>\n",
       "      <td>21.9038</td>\n",
       "      <td>69.3732</td>\n",
       "      <td>Wind</td>\n",
       "      <td>Oil</td>\n",
       "      <td>1996.876894</td>\n",
       "      <td>CDM</td>\n",
       "      <td>Central Electricity Authority</td>\n",
       "      <td>4803.186746</td>\n",
       "    </tr>\n",
       "    <tr>\n",
       "      <th>3</th>\n",
       "      <td>AGARTALA GT</td>\n",
       "      <td>135.0</td>\n",
       "      <td>23.8712</td>\n",
       "      <td>91.3602</td>\n",
       "      <td>Gas</td>\n",
       "      <td>Oil</td>\n",
       "      <td>2004.000000</td>\n",
       "      <td>Central Electricity Authority</td>\n",
       "      <td>Central Electricity Authority</td>\n",
       "      <td>1249.567192</td>\n",
       "    </tr>\n",
       "    <tr>\n",
       "      <th>4</th>\n",
       "      <td>AKALTARA TPP</td>\n",
       "      <td>1800.0</td>\n",
       "      <td>21.9603</td>\n",
       "      <td>82.4091</td>\n",
       "      <td>Coal</td>\n",
       "      <td>Oil</td>\n",
       "      <td>2015.000000</td>\n",
       "      <td>Central Electricity Authority</td>\n",
       "      <td>Central Electricity Authority</td>\n",
       "      <td>4703.840000</td>\n",
       "    </tr>\n",
       "  </tbody>\n",
       "</table>\n",
       "</div>"
      ],
      "text/plain": [
       "                       name  capacity_mw  latitude  longitude primary_fuel  \\\n",
       "0          ACME Solar Tower          2.5   28.1839    73.2407        Solar   \n",
       "1       ADITYA CEMENT WORKS         98.0   24.7663    74.6090         Coal   \n",
       "2  AES Saurashtra Windfarms         39.2   21.9038    69.3732         Wind   \n",
       "3               AGARTALA GT        135.0   23.8712    91.3602          Gas   \n",
       "4              AKALTARA TPP       1800.0   21.9603    82.4091         Coal   \n",
       "\n",
       "  other_fuel1  commissioning_year                                source  \\\n",
       "0         Oil         2011.000000  National Renewable Energy Laboratory   \n",
       "1         Oil         1996.876894                  Ultratech Cement ltd   \n",
       "2         Oil         1996.876894                                   CDM   \n",
       "3         Oil         2004.000000         Central Electricity Authority   \n",
       "4         Oil         2015.000000         Central Electricity Authority   \n",
       "\n",
       "          generation_data_source  total_generation  \n",
       "0  Central Electricity Authority       4803.186746  \n",
       "1  Central Electricity Authority       4803.186746  \n",
       "2  Central Electricity Authority       4803.186746  \n",
       "3  Central Electricity Authority       1249.567192  \n",
       "4  Central Electricity Authority       4703.840000  "
      ]
     },
     "execution_count": 134,
     "metadata": {},
     "output_type": "execute_result"
    }
   ],
   "source": [
    "df_new.head()"
   ]
  },
  {
   "cell_type": "code",
   "execution_count": 137,
   "metadata": {
    "scrolled": true
   },
   "outputs": [],
   "source": [
    "le = LabelEncoder()\n",
    "df1 = le.fit_transform(df_new['name'])"
   ]
  },
  {
   "cell_type": "code",
   "execution_count": 138,
   "metadata": {},
   "outputs": [],
   "source": [
    "df_new['name']=df1"
   ]
  },
  {
   "cell_type": "code",
   "execution_count": 139,
   "metadata": {},
   "outputs": [],
   "source": [
    "df2 = le.fit_transform(df_new['primary_fuel'])\n",
    "df_new['primary_fuel']=df2\n",
    "df3 = le.fit_transform(df_new['other_fuel1'])\n",
    "df_new['other_fuel1']=df3\n",
    "df4 = le.fit_transform(df_new['source'])\n",
    "df_new['source']=df4\n",
    "df5 = le.fit_transform(df_new['generation_data_source'])\n",
    "df_new['generation_data_source']=df5"
   ]
  },
  {
   "cell_type": "code",
   "execution_count": 140,
   "metadata": {},
   "outputs": [
    {
     "data": {
      "text/html": [
       "<div>\n",
       "<style scoped>\n",
       "    .dataframe tbody tr th:only-of-type {\n",
       "        vertical-align: middle;\n",
       "    }\n",
       "\n",
       "    .dataframe tbody tr th {\n",
       "        vertical-align: top;\n",
       "    }\n",
       "\n",
       "    .dataframe thead th {\n",
       "        text-align: right;\n",
       "    }\n",
       "</style>\n",
       "<table border=\"1\" class=\"dataframe\">\n",
       "  <thead>\n",
       "    <tr style=\"text-align: right;\">\n",
       "      <th></th>\n",
       "      <th>name</th>\n",
       "      <th>capacity_mw</th>\n",
       "      <th>latitude</th>\n",
       "      <th>longitude</th>\n",
       "      <th>primary_fuel</th>\n",
       "      <th>other_fuel1</th>\n",
       "      <th>commissioning_year</th>\n",
       "      <th>source</th>\n",
       "      <th>generation_data_source</th>\n",
       "      <th>total_generation</th>\n",
       "    </tr>\n",
       "  </thead>\n",
       "  <tbody>\n",
       "    <tr>\n",
       "      <th>0</th>\n",
       "      <td>0</td>\n",
       "      <td>2.5</td>\n",
       "      <td>28.1839</td>\n",
       "      <td>73.2407</td>\n",
       "      <td>6</td>\n",
       "      <td>2</td>\n",
       "      <td>2011.000000</td>\n",
       "      <td>109</td>\n",
       "      <td>0</td>\n",
       "      <td>4803.186746</td>\n",
       "    </tr>\n",
       "    <tr>\n",
       "      <th>1</th>\n",
       "      <td>1</td>\n",
       "      <td>98.0</td>\n",
       "      <td>24.7663</td>\n",
       "      <td>74.6090</td>\n",
       "      <td>1</td>\n",
       "      <td>2</td>\n",
       "      <td>1996.876894</td>\n",
       "      <td>174</td>\n",
       "      <td>0</td>\n",
       "      <td>4803.186746</td>\n",
       "    </tr>\n",
       "    <tr>\n",
       "      <th>2</th>\n",
       "      <td>2</td>\n",
       "      <td>39.2</td>\n",
       "      <td>21.9038</td>\n",
       "      <td>69.3732</td>\n",
       "      <td>7</td>\n",
       "      <td>2</td>\n",
       "      <td>1996.876894</td>\n",
       "      <td>21</td>\n",
       "      <td>0</td>\n",
       "      <td>4803.186746</td>\n",
       "    </tr>\n",
       "    <tr>\n",
       "      <th>3</th>\n",
       "      <td>3</td>\n",
       "      <td>135.0</td>\n",
       "      <td>23.8712</td>\n",
       "      <td>91.3602</td>\n",
       "      <td>2</td>\n",
       "      <td>2</td>\n",
       "      <td>2004.000000</td>\n",
       "      <td>22</td>\n",
       "      <td>0</td>\n",
       "      <td>1249.567192</td>\n",
       "    </tr>\n",
       "    <tr>\n",
       "      <th>4</th>\n",
       "      <td>4</td>\n",
       "      <td>1800.0</td>\n",
       "      <td>21.9603</td>\n",
       "      <td>82.4091</td>\n",
       "      <td>1</td>\n",
       "      <td>2</td>\n",
       "      <td>2015.000000</td>\n",
       "      <td>22</td>\n",
       "      <td>0</td>\n",
       "      <td>4703.840000</td>\n",
       "    </tr>\n",
       "  </tbody>\n",
       "</table>\n",
       "</div>"
      ],
      "text/plain": [
       "   name  capacity_mw  latitude  longitude  primary_fuel  other_fuel1  \\\n",
       "0     0          2.5   28.1839    73.2407             6            2   \n",
       "1     1         98.0   24.7663    74.6090             1            2   \n",
       "2     2         39.2   21.9038    69.3732             7            2   \n",
       "3     3        135.0   23.8712    91.3602             2            2   \n",
       "4     4       1800.0   21.9603    82.4091             1            2   \n",
       "\n",
       "   commissioning_year  source  generation_data_source  total_generation  \n",
       "0         2011.000000     109                       0       4803.186746  \n",
       "1         1996.876894     174                       0       4803.186746  \n",
       "2         1996.876894      21                       0       4803.186746  \n",
       "3         2004.000000      22                       0       1249.567192  \n",
       "4         2015.000000      22                       0       4703.840000  "
      ]
     },
     "execution_count": 140,
     "metadata": {},
     "output_type": "execute_result"
    }
   ],
   "source": [
    "df_new.head()"
   ]
  },
  {
   "cell_type": "markdown",
   "metadata": {},
   "source": [
    "# checking skewness in data"
   ]
  },
  {
   "cell_type": "code",
   "execution_count": 141,
   "metadata": {
    "scrolled": false
   },
   "outputs": [
    {
     "data": {
      "image/png": "[encoded data removed]",
      "text/plain": [
       "<Figure size 1080x1080 with 10 Axes>"
      ]
     },
     "metadata": {},
     "output_type": "display_data"
    }
   ],
   "source": [
    "# Checking skewness in continous data\n",
    "plt.figure(figsize = (15,15),facecolor = 'white')\n",
    "plotnumber = 1\n",
    "\n",
    "for column in df_new:\n",
    "    if plotnumber <=12:\n",
    "        ax = plt.subplot(4,3,plotnumber)\n",
    "        sns.distplot(df_new[column])\n",
    "        plt.xlabel(column,fontsize = 20)\n",
    "        \n",
    "    plotnumber+=1\n",
    "plt.tight_layout()"
   ]
  },
  {
   "cell_type": "code",
   "execution_count": 144,
   "metadata": {},
   "outputs": [
    {
     "data": {
      "text/plain": [
       "name                       0.000000\n",
       "capacity_mw                3.193257\n",
       "latitude                  -0.147391\n",
       "longitude                  1.129836\n",
       "primary_fuel               0.471141\n",
       "other_fuel1              -20.464435\n",
       "commissioning_year        -1.383330\n",
       "source                     1.829145\n",
       "generation_data_source     0.000000\n",
       "total_generation           5.175433\n",
       "dtype: float64"
      ]
     },
     "execution_count": 144,
     "metadata": {},
     "output_type": "execute_result"
    }
   ],
   "source": [
    "df_new.skew()"
   ]
  },
  {
   "cell_type": "markdown",
   "metadata": {},
   "source": [
    "with the help of graph we can see that there are some right skewed and come are left skewed columns which we need to treat.\n",
    "Will use log1p method to fix the same."
   ]
  },
  {
   "cell_type": "code",
   "execution_count": 145,
   "metadata": {},
   "outputs": [],
   "source": [
    "skew = ['capacity_mw','longitude','total_generation']"
   ]
  },
  {
   "cell_type": "code",
   "execution_count": 146,
   "metadata": {},
   "outputs": [],
   "source": [
    "for col in skew:\n",
    "    if df_new.skew().loc[col]>0.55:\n",
    "        df_new[col]=np.log1p(df_new[col])"
   ]
  },
  {
   "cell_type": "code",
   "execution_count": 148,
   "metadata": {},
   "outputs": [
    {
     "data": {
      "text/plain": [
       "name                       0.000000\n",
       "capacity_mw                0.125029\n",
       "latitude                  -0.147391\n",
       "longitude                  0.924113\n",
       "primary_fuel               0.471141\n",
       "other_fuel1              -20.464435\n",
       "commissioning_year        -1.383330\n",
       "source                     1.829145\n",
       "generation_data_source     0.000000\n",
       "total_generation          -2.957489\n",
       "dtype: float64"
      ]
     },
     "execution_count": 148,
     "metadata": {},
     "output_type": "execute_result"
    }
   ],
   "source": [
    "df_new.skew()"
   ]
  },
  {
   "cell_type": "code",
   "execution_count": 149,
   "metadata": {
    "scrolled": true
   },
   "outputs": [
    {
     "data": {
      "image/png": "[encoded data removed]",
      "text/plain": [
       "<Figure size 1080x1080 with 10 Axes>"
      ]
     },
     "metadata": {
      "needs_background": "light"
     },
     "output_type": "display_data"
    }
   ],
   "source": [
    "# Let's check outliers \n",
    "plt.figure(figsize=(15,15))\n",
    "\n",
    "graph=1\n",
    "\n",
    "for column in df_new.columns:\n",
    "    if graph<=12:\n",
    "        ax = plt.subplot(4,3,graph)\n",
    "        sns.boxplot(y=df_new[column],orient='v') #orientation = v means vertical and if h that means horizontal\n",
    "        plt.xlabel(column,fontsize=10)\n",
    "    graph+=1\n",
    "plt.show()"
   ]
  },
  {
   "cell_type": "markdown",
   "metadata": {},
   "source": [
    "outliers found in:\n",
    "1. longitude\n",
    "2. total_generation"
   ]
  },
  {
   "cell_type": "code",
   "execution_count": 150,
   "metadata": {},
   "outputs": [],
   "source": [
    "from scipy.stats import zscore"
   ]
  },
  {
   "cell_type": "code",
   "execution_count": 152,
   "metadata": {},
   "outputs": [],
   "source": [
    "dfcontcol = df_new[['longitude','total_generation']]"
   ]
  },
  {
   "cell_type": "code",
   "execution_count": 155,
   "metadata": {},
   "outputs": [],
   "source": [
    "# applying zscore on only the dataset which has continuous columns\n",
    "z=np.abs(zscore(dfcontcol))\n",
    "df_out=df_new[(z<3).all(axis=1)]"
   ]
  },
  {
   "cell_type": "code",
   "execution_count": 156,
   "metadata": {},
   "outputs": [
    {
     "name": "stdout",
     "output_type": "stream",
     "text": [
      "shape before and after\n",
      "shape before         : (908, 10)\n",
      "shape after          : (875, 10)\n",
      "Percentage Loss      : 0.03634361233480176\n"
     ]
    }
   ],
   "source": [
    "print(\"shape before and after\")\n",
    "print(\"shape before\".ljust(20),\":\", df_new.shape)\n",
    "print(\"shape after\".ljust(20),\":\", df_out.shape)\n",
    "print(\"Percentage Loss\".ljust(20),\":\", (df_new.shape[0]-df_out.shape[0])/df_new.shape[0])"
   ]
  },
  {
   "cell_type": "markdown",
   "metadata": {},
   "source": [
    "data loss is very less here so we can procees further for model building"
   ]
  },
  {
   "cell_type": "markdown",
   "metadata": {},
   "source": [
    "## correlation among features"
   ]
  },
  {
   "cell_type": "code",
   "execution_count": 157,
   "metadata": {
    "scrolled": true
   },
   "outputs": [
    {
     "data": {
      "text/html": [
       "<div>\n",
       "<style scoped>\n",
       "    .dataframe tbody tr th:only-of-type {\n",
       "        vertical-align: middle;\n",
       "    }\n",
       "\n",
       "    .dataframe tbody tr th {\n",
       "        vertical-align: top;\n",
       "    }\n",
       "\n",
       "    .dataframe thead th {\n",
       "        text-align: right;\n",
       "    }\n",
       "</style>\n",
       "<table border=\"1\" class=\"dataframe\">\n",
       "  <thead>\n",
       "    <tr style=\"text-align: right;\">\n",
       "      <th></th>\n",
       "      <th>name</th>\n",
       "      <th>capacity_mw</th>\n",
       "      <th>latitude</th>\n",
       "      <th>longitude</th>\n",
       "      <th>primary_fuel</th>\n",
       "      <th>other_fuel1</th>\n",
       "      <th>commissioning_year</th>\n",
       "      <th>source</th>\n",
       "      <th>generation_data_source</th>\n",
       "      <th>total_generation</th>\n",
       "    </tr>\n",
       "  </thead>\n",
       "  <tbody>\n",
       "    <tr>\n",
       "      <th>name</th>\n",
       "      <td>1.000000</td>\n",
       "      <td>0.017747</td>\n",
       "      <td>-0.137344</td>\n",
       "      <td>0.037717</td>\n",
       "      <td>0.034117</td>\n",
       "      <td>-0.061750</td>\n",
       "      <td>-0.036496</td>\n",
       "      <td>-0.015410</td>\n",
       "      <td>NaN</td>\n",
       "      <td>0.059795</td>\n",
       "    </tr>\n",
       "    <tr>\n",
       "      <th>capacity_mw</th>\n",
       "      <td>0.017747</td>\n",
       "      <td>1.000000</td>\n",
       "      <td>0.061075</td>\n",
       "      <td>0.336294</td>\n",
       "      <td>-0.531716</td>\n",
       "      <td>-0.036632</td>\n",
       "      <td>0.246967</td>\n",
       "      <td>-0.388971</td>\n",
       "      <td>NaN</td>\n",
       "      <td>0.067628</td>\n",
       "    </tr>\n",
       "    <tr>\n",
       "      <th>latitude</th>\n",
       "      <td>-0.137344</td>\n",
       "      <td>0.061075</td>\n",
       "      <td>1.000000</td>\n",
       "      <td>-0.003740</td>\n",
       "      <td>-0.010239</td>\n",
       "      <td>0.035037</td>\n",
       "      <td>0.099617</td>\n",
       "      <td>0.062334</td>\n",
       "      <td>NaN</td>\n",
       "      <td>0.066469</td>\n",
       "    </tr>\n",
       "    <tr>\n",
       "      <th>longitude</th>\n",
       "      <td>0.037717</td>\n",
       "      <td>0.336294</td>\n",
       "      <td>-0.003740</td>\n",
       "      <td>1.000000</td>\n",
       "      <td>-0.379572</td>\n",
       "      <td>0.018262</td>\n",
       "      <td>0.090442</td>\n",
       "      <td>-0.249193</td>\n",
       "      <td>NaN</td>\n",
       "      <td>-0.096135</td>\n",
       "    </tr>\n",
       "    <tr>\n",
       "      <th>primary_fuel</th>\n",
       "      <td>0.034117</td>\n",
       "      <td>-0.531716</td>\n",
       "      <td>-0.010239</td>\n",
       "      <td>-0.379572</td>\n",
       "      <td>1.000000</td>\n",
       "      <td>0.017574</td>\n",
       "      <td>-0.112085</td>\n",
       "      <td>0.047490</td>\n",
       "      <td>NaN</td>\n",
       "      <td>0.025506</td>\n",
       "    </tr>\n",
       "    <tr>\n",
       "      <th>other_fuel1</th>\n",
       "      <td>-0.061750</td>\n",
       "      <td>-0.036632</td>\n",
       "      <td>0.035037</td>\n",
       "      <td>0.018262</td>\n",
       "      <td>0.017574</td>\n",
       "      <td>1.000000</td>\n",
       "      <td>0.002454</td>\n",
       "      <td>0.022658</td>\n",
       "      <td>NaN</td>\n",
       "      <td>0.008305</td>\n",
       "    </tr>\n",
       "    <tr>\n",
       "      <th>commissioning_year</th>\n",
       "      <td>-0.036496</td>\n",
       "      <td>0.246967</td>\n",
       "      <td>0.099617</td>\n",
       "      <td>0.090442</td>\n",
       "      <td>-0.112085</td>\n",
       "      <td>0.002454</td>\n",
       "      <td>1.000000</td>\n",
       "      <td>0.028983</td>\n",
       "      <td>NaN</td>\n",
       "      <td>0.240925</td>\n",
       "    </tr>\n",
       "    <tr>\n",
       "      <th>source</th>\n",
       "      <td>-0.015410</td>\n",
       "      <td>-0.388971</td>\n",
       "      <td>0.062334</td>\n",
       "      <td>-0.249193</td>\n",
       "      <td>0.047490</td>\n",
       "      <td>0.022658</td>\n",
       "      <td>0.028983</td>\n",
       "      <td>1.000000</td>\n",
       "      <td>NaN</td>\n",
       "      <td>0.171651</td>\n",
       "    </tr>\n",
       "    <tr>\n",
       "      <th>generation_data_source</th>\n",
       "      <td>NaN</td>\n",
       "      <td>NaN</td>\n",
       "      <td>NaN</td>\n",
       "      <td>NaN</td>\n",
       "      <td>NaN</td>\n",
       "      <td>NaN</td>\n",
       "      <td>NaN</td>\n",
       "      <td>NaN</td>\n",
       "      <td>NaN</td>\n",
       "      <td>NaN</td>\n",
       "    </tr>\n",
       "    <tr>\n",
       "      <th>total_generation</th>\n",
       "      <td>0.059795</td>\n",
       "      <td>0.067628</td>\n",
       "      <td>0.066469</td>\n",
       "      <td>-0.096135</td>\n",
       "      <td>0.025506</td>\n",
       "      <td>0.008305</td>\n",
       "      <td>0.240925</td>\n",
       "      <td>0.171651</td>\n",
       "      <td>NaN</td>\n",
       "      <td>1.000000</td>\n",
       "    </tr>\n",
       "  </tbody>\n",
       "</table>\n",
       "</div>"
      ],
      "text/plain": [
       "                            name  capacity_mw  latitude  longitude  \\\n",
       "name                    1.000000     0.017747 -0.137344   0.037717   \n",
       "capacity_mw             0.017747     1.000000  0.061075   0.336294   \n",
       "latitude               -0.137344     0.061075  1.000000  -0.003740   \n",
       "longitude               0.037717     0.336294 -0.003740   1.000000   \n",
       "primary_fuel            0.034117    -0.531716 -0.010239  -0.379572   \n",
       "other_fuel1            -0.061750    -0.036632  0.035037   0.018262   \n",
       "commissioning_year     -0.036496     0.246967  0.099617   0.090442   \n",
       "source                 -0.015410    -0.388971  0.062334  -0.249193   \n",
       "generation_data_source       NaN          NaN       NaN        NaN   \n",
       "total_generation        0.059795     0.067628  0.066469  -0.096135   \n",
       "\n",
       "                        primary_fuel  other_fuel1  commissioning_year  \\\n",
       "name                        0.034117    -0.061750           -0.036496   \n",
       "capacity_mw                -0.531716    -0.036632            0.246967   \n",
       "latitude                   -0.010239     0.035037            0.099617   \n",
       "longitude                  -0.379572     0.018262            0.090442   \n",
       "primary_fuel                1.000000     0.017574           -0.112085   \n",
       "other_fuel1                 0.017574     1.000000            0.002454   \n",
       "commissioning_year         -0.112085     0.002454            1.000000   \n",
       "source                      0.047490     0.022658            0.028983   \n",
       "generation_data_source           NaN          NaN                 NaN   \n",
       "total_generation            0.025506     0.008305            0.240925   \n",
       "\n",
       "                          source  generation_data_source  total_generation  \n",
       "name                   -0.015410                     NaN          0.059795  \n",
       "capacity_mw            -0.388971                     NaN          0.067628  \n",
       "latitude                0.062334                     NaN          0.066469  \n",
       "longitude              -0.249193                     NaN         -0.096135  \n",
       "primary_fuel            0.047490                     NaN          0.025506  \n",
       "other_fuel1             0.022658                     NaN          0.008305  \n",
       "commissioning_year      0.028983                     NaN          0.240925  \n",
       "source                  1.000000                     NaN          0.171651  \n",
       "generation_data_source       NaN                     NaN               NaN  \n",
       "total_generation        0.171651                     NaN          1.000000  "
      ]
     },
     "execution_count": 157,
     "metadata": {},
     "output_type": "execute_result"
    }
   ],
   "source": [
    "df_out.corr()"
   ]
  },
  {
   "cell_type": "code",
   "execution_count": 158,
   "metadata": {},
   "outputs": [],
   "source": [
    "df_out.drop(columns=['generation_data_source'],inplace=True)"
   ]
  },
  {
   "cell_type": "code",
   "execution_count": 159,
   "metadata": {
    "scrolled": true
   },
   "outputs": [
    {
     "data": {
      "image/png": "[encoded data removed]",
      "text/plain": [
       "<Figure size 1152x720 with 2 Axes>"
      ]
     },
     "metadata": {
      "needs_background": "light"
     },
     "output_type": "display_data"
    }
   ],
   "source": [
    "# Checking correlation with the help of heatmap\n",
    "df_corr = df_out.corr().abs()\n",
    "\n",
    "plt.figure(figsize = (16,10))\n",
    "sns.heatmap(df_corr, vmin = -1,vmax = 1,annot=True,\n",
    "           square = True,center = 0, fmt = '.1g',linewidths = .1,)\n",
    "plt.show()\n"
   ]
  },
  {
   "cell_type": "markdown",
   "metadata": {},
   "source": [
    "Here correlation between feature are less as correlation lies between +-1"
   ]
  },
  {
   "cell_type": "markdown",
   "metadata": {},
   "source": [
    "# Preprocessing"
   ]
  },
  {
   "cell_type": "code",
   "execution_count": 160,
   "metadata": {},
   "outputs": [],
   "source": [
    "# Splitting Target and feature variable into x and y\n",
    "x = df_out.drop(columns = ['primary_fuel'])\n",
    "y = df_out['primary_fuel']"
   ]
  },
  {
   "cell_type": "markdown",
   "metadata": {},
   "source": [
    "x is here our feature and y is our target"
   ]
  },
  {
   "cell_type": "code",
   "execution_count": 161,
   "metadata": {
    "scrolled": true
   },
   "outputs": [
    {
     "data": {
      "text/plain": [
       "array([[-1.73124082, -1.60802697,  1.14657422, ...,  1.09875973,\n",
       "         1.42661333,  0.34396308],\n",
       "       [-1.72743692,  0.17406177,  0.58757199, ...,  0.01334528,\n",
       "         2.86531811,  0.34396308],\n",
       "       [-1.72363301, -0.30647117,  0.1193651 , ...,  0.01334528,\n",
       "        -0.5211716 ,  0.34396308],\n",
       "       ...,\n",
       "       [ 1.71129098, -0.5286605 , -0.96474853, ...,  0.01334528,\n",
       "        -0.5211716 ,  0.34396308],\n",
       "       [ 1.71509488,  0.06706751,  0.51947958, ...,  0.01334528,\n",
       "         0.31991735,  0.34396308],\n",
       "       [ 1.71889879, -0.74990162, -1.8384185 , ...,  0.01334528,\n",
       "        -0.5211716 ,  0.34396308]])"
      ]
     },
     "execution_count": 161,
     "metadata": {},
     "output_type": "execute_result"
    }
   ],
   "source": [
    "scaler = StandardScaler()\n",
    "x_scaler = scaler.fit_transform(x)\n",
    "x_scaler"
   ]
  },
  {
   "cell_type": "markdown",
   "metadata": {},
   "source": [
    "# Finding Best Random state"
   ]
  },
  {
   "cell_type": "code",
   "execution_count": 162,
   "metadata": {},
   "outputs": [],
   "source": [
    "from sklearn.tree import DecisionTreeClassifier\n",
    "from sklearn.model_selection import train_test_split,GridSearchCV\n",
    "from sklearn.metrics import accuracy_score,confusion_matrix,roc_curve,roc_auc_score\n",
    "from sklearn.model_selection import cross_val_score\n",
    "from sklearn.ensemble import RandomForestClassifier\n",
    "from sklearn.svm import SVC\n",
    "from sklearn.metrics import classification_report"
   ]
  },
  {
   "cell_type": "code",
   "execution_count": 163,
   "metadata": {},
   "outputs": [
    {
     "name": "stdout",
     "output_type": "stream",
     "text": [
      "Best Accuracy score is: 0.8517110266159695 On Random state:  9\n"
     ]
    }
   ],
   "source": [
    "maxaccu = 0\n",
    "maxrs = 0\n",
    "\n",
    "for i in range(1,500):\n",
    "    x_train,x_test,y_train,y_test = train_test_split(x_scaler,y,test_size = 0.30,random_state = i)\n",
    "    dt = DecisionTreeClassifier()\n",
    "    dt.fit(x_train,y_train)\n",
    "    pred = dt.predict(x_test)\n",
    "    acc = accuracy_score(y_test,pred)\n",
    "    if acc>maxaccu:\n",
    "        maxaccu=acc\n",
    "        maxrs=i\n",
    "print(\"Best Accuracy score is:\",maxaccu,\"On Random state: \",maxrs)\n",
    "        "
   ]
  },
  {
   "cell_type": "code",
   "execution_count": 164,
   "metadata": {},
   "outputs": [],
   "source": [
    "x_train,x_test,y_train,y_test=train_test_split(x_scaler,y,random_state=i,test_size=0.30)"
   ]
  },
  {
   "cell_type": "code",
   "execution_count": 165,
   "metadata": {},
   "outputs": [
    {
     "name": "stdout",
     "output_type": "stream",
     "text": [
      "              precision    recall  f1-score   support\n",
      "\n",
      "           0       0.78      0.47      0.58        15\n",
      "           1       0.70      0.67      0.68        84\n",
      "           2       0.36      0.53      0.43        15\n",
      "           3       0.76      0.84      0.79        67\n",
      "           4       0.00      0.00      0.00         4\n",
      "           5       0.33      0.33      0.33         3\n",
      "           6       0.84      0.82      0.83        39\n",
      "           7       1.00      1.00      1.00        36\n",
      "\n",
      "    accuracy                           0.75       263\n",
      "   macro avg       0.60      0.58      0.58       263\n",
      "weighted avg       0.75      0.75      0.74       263\n",
      "\n"
     ]
    }
   ],
   "source": [
    "DTC = DecisionTreeClassifier()\n",
    "DTC.fit(x_train,y_train)\n",
    "pred = DTC.predict(x_test)\n",
    "acc = classification_report(y_test,pred)\n",
    "print(acc)"
   ]
  },
  {
   "cell_type": "code",
   "execution_count": 166,
   "metadata": {
    "scrolled": true
   },
   "outputs": [
    {
     "name": "stdout",
     "output_type": "stream",
     "text": [
      "0.7794285714285716\n"
     ]
    }
   ],
   "source": [
    "print(cross_val_score(DTC,x,y,cv=5).mean())"
   ]
  },
  {
   "cell_type": "code",
   "execution_count": 167,
   "metadata": {},
   "outputs": [
    {
     "name": "stdout",
     "output_type": "stream",
     "text": [
      "              precision    recall  f1-score   support\n",
      "\n",
      "           0       0.85      0.73      0.79        15\n",
      "           1       0.82      0.82      0.82        84\n",
      "           2       0.50      0.40      0.44        15\n",
      "           3       0.84      0.96      0.90        67\n",
      "           4       0.00      0.00      0.00         4\n",
      "           5       0.00      0.00      0.00         3\n",
      "           6       0.90      0.92      0.91        39\n",
      "           7       0.95      1.00      0.97        36\n",
      "\n",
      "    accuracy                           0.84       263\n",
      "   macro avg       0.61      0.60      0.60       263\n",
      "weighted avg       0.82      0.84      0.83       263\n",
      "\n"
     ]
    }
   ],
   "source": [
    "RFC = RandomForestClassifier()\n",
    "RFC.fit(x_train,y_train)\n",
    "pred =RFC.predict(x_test)\n",
    "acc = classification_report(y_test,pred)\n",
    "print(acc)\n"
   ]
  },
  {
   "cell_type": "code",
   "execution_count": 168,
   "metadata": {},
   "outputs": [
    {
     "name": "stdout",
     "output_type": "stream",
     "text": [
      "0.8262857142857143\n"
     ]
    }
   ],
   "source": [
    "print(cross_val_score(RFC,x,y,cv=5).mean())"
   ]
  },
  {
   "cell_type": "code",
   "execution_count": 169,
   "metadata": {
    "scrolled": true
   },
   "outputs": [
    {
     "name": "stdout",
     "output_type": "stream",
     "text": [
      "              precision    recall  f1-score   support\n",
      "\n",
      "           0       0.56      0.67      0.61        15\n",
      "           1       0.76      0.76      0.76        84\n",
      "           2       0.00      0.00      0.00        15\n",
      "           3       0.70      0.78      0.74        67\n",
      "           4       0.00      0.00      0.00         4\n",
      "           5       0.00      0.00      0.00         3\n",
      "           6       0.86      0.62      0.72        39\n",
      "           7       0.60      0.97      0.74        36\n",
      "\n",
      "    accuracy                           0.70       263\n",
      "   macro avg       0.44      0.47      0.45       263\n",
      "weighted avg       0.66      0.70      0.67       263\n",
      "\n"
     ]
    }
   ],
   "source": [
    "SV = SVC()\n",
    "SV.fit(x_train,y_train)\n",
    "pred = SV.predict(x_test)\n",
    "acc = classification_report(y_test,pred)\n",
    "print(acc)"
   ]
  },
  {
   "cell_type": "code",
   "execution_count": 170,
   "metadata": {},
   "outputs": [
    {
     "name": "stdout",
     "output_type": "stream",
     "text": [
      "0.28914285714285715\n"
     ]
    }
   ],
   "source": [
    "print(cross_val_score(SV,x,y,cv=5).mean())"
   ]
  },
  {
   "cell_type": "markdown",
   "metadata": {},
   "source": [
    "Got RandomForestClassfier as best model compare to others so will use hyperparameter tuning on the same"
   ]
  },
  {
   "cell_type": "markdown",
   "metadata": {},
   "source": [
    "# Hyperparameter Tuning"
   ]
  },
  {
   "cell_type": "code",
   "execution_count": 174,
   "metadata": {},
   "outputs": [],
   "source": [
    "# RandomForestClassifier\n",
    "param = {'n_estimators':[100,500,700],\n",
    "        'criterion':['gini','entropy'],\n",
    "        'max_depth':[2,4,6,8,10],\n",
    "        'max_features':['auto','sqrt','log2']}"
   ]
  },
  {
   "cell_type": "code",
   "execution_count": 175,
   "metadata": {},
   "outputs": [],
   "source": [
    "GC = GridSearchCV(RFC,param,cv=5)"
   ]
  },
  {
   "cell_type": "code",
   "execution_count": 176,
   "metadata": {
    "scrolled": true
   },
   "outputs": [
    {
     "data": {
      "text/plain": [
       "GridSearchCV(cv=5, estimator=RandomForestClassifier(),\n",
       "             param_grid={'criterion': ['gini', 'entropy'],\n",
       "                         'max_depth': [2, 4, 6, 8, 10],\n",
       "                         'max_features': ['auto', 'sqrt', 'log2'],\n",
       "                         'n_estimators': [100, 500, 700]})"
      ]
     },
     "execution_count": 176,
     "metadata": {},
     "output_type": "execute_result"
    }
   ],
   "source": [
    "GC.fit(x_train,y_train)"
   ]
  },
  {
   "cell_type": "code",
   "execution_count": 177,
   "metadata": {},
   "outputs": [
    {
     "data": {
      "text/plain": [
       "{'criterion': 'entropy',\n",
       " 'max_depth': 10,\n",
       " 'max_features': 'auto',\n",
       " 'n_estimators': 100}"
      ]
     },
     "execution_count": 177,
     "metadata": {},
     "output_type": "execute_result"
    }
   ],
   "source": [
    "GC.best_params_"
   ]
  },
  {
   "cell_type": "code",
   "execution_count": 178,
   "metadata": {
    "scrolled": true
   },
   "outputs": [
    {
     "name": "stdout",
     "output_type": "stream",
     "text": [
      "83.65019011406845\n"
     ]
    }
   ],
   "source": [
    "final_rfc = RandomForestClassifier(criterion = 'entropy',max_depth = 10, max_features = 'auto',n_estimators = 100)\n",
    "final_rfc.fit(x_train,y_train)\n",
    "pred = final_rfc.predict(x_test)\n",
    "acc = accuracy_score(pred,y_test)\n",
    "print(acc*100)"
   ]
  },
  {
   "cell_type": "markdown",
   "metadata": {},
   "source": [
    "# Predicting on Capacity_mw"
   ]
  },
  {
   "cell_type": "code",
   "execution_count": 180,
   "metadata": {
    "scrolled": true
   },
   "outputs": [
    {
     "data": {
      "text/html": [
       "<div>\n",
       "<style scoped>\n",
       "    .dataframe tbody tr th:only-of-type {\n",
       "        vertical-align: middle;\n",
       "    }\n",
       "\n",
       "    .dataframe tbody tr th {\n",
       "        vertical-align: top;\n",
       "    }\n",
       "\n",
       "    .dataframe thead th {\n",
       "        text-align: right;\n",
       "    }\n",
       "</style>\n",
       "<table border=\"1\" class=\"dataframe\">\n",
       "  <thead>\n",
       "    <tr style=\"text-align: right;\">\n",
       "      <th></th>\n",
       "      <th>name</th>\n",
       "      <th>capacity_mw</th>\n",
       "      <th>latitude</th>\n",
       "      <th>longitude</th>\n",
       "      <th>primary_fuel</th>\n",
       "      <th>other_fuel1</th>\n",
       "      <th>commissioning_year</th>\n",
       "      <th>source</th>\n",
       "      <th>total_generation</th>\n",
       "    </tr>\n",
       "  </thead>\n",
       "  <tbody>\n",
       "    <tr>\n",
       "      <th>0</th>\n",
       "      <td>0</td>\n",
       "      <td>1.252763</td>\n",
       "      <td>28.1839</td>\n",
       "      <td>4.307313</td>\n",
       "      <td>6</td>\n",
       "      <td>2</td>\n",
       "      <td>2011.000000</td>\n",
       "      <td>109</td>\n",
       "      <td>8.477243</td>\n",
       "    </tr>\n",
       "    <tr>\n",
       "      <th>1</th>\n",
       "      <td>1</td>\n",
       "      <td>4.595120</td>\n",
       "      <td>24.7663</td>\n",
       "      <td>4.325575</td>\n",
       "      <td>1</td>\n",
       "      <td>2</td>\n",
       "      <td>1996.876894</td>\n",
       "      <td>174</td>\n",
       "      <td>8.477243</td>\n",
       "    </tr>\n",
       "    <tr>\n",
       "      <th>2</th>\n",
       "      <td>2</td>\n",
       "      <td>3.693867</td>\n",
       "      <td>21.9038</td>\n",
       "      <td>4.253813</td>\n",
       "      <td>7</td>\n",
       "      <td>2</td>\n",
       "      <td>1996.876894</td>\n",
       "      <td>21</td>\n",
       "      <td>8.477243</td>\n",
       "    </tr>\n",
       "    <tr>\n",
       "      <th>3</th>\n",
       "      <td>3</td>\n",
       "      <td>4.912655</td>\n",
       "      <td>23.8712</td>\n",
       "      <td>4.525696</td>\n",
       "      <td>2</td>\n",
       "      <td>2</td>\n",
       "      <td>2004.000000</td>\n",
       "      <td>22</td>\n",
       "      <td>7.131352</td>\n",
       "    </tr>\n",
       "    <tr>\n",
       "      <th>4</th>\n",
       "      <td>4</td>\n",
       "      <td>7.496097</td>\n",
       "      <td>21.9603</td>\n",
       "      <td>4.423757</td>\n",
       "      <td>1</td>\n",
       "      <td>2</td>\n",
       "      <td>2015.000000</td>\n",
       "      <td>22</td>\n",
       "      <td>8.456347</td>\n",
       "    </tr>\n",
       "  </tbody>\n",
       "</table>\n",
       "</div>"
      ],
      "text/plain": [
       "   name  capacity_mw  latitude  longitude  primary_fuel  other_fuel1  \\\n",
       "0     0     1.252763   28.1839   4.307313             6            2   \n",
       "1     1     4.595120   24.7663   4.325575             1            2   \n",
       "2     2     3.693867   21.9038   4.253813             7            2   \n",
       "3     3     4.912655   23.8712   4.525696             2            2   \n",
       "4     4     7.496097   21.9603   4.423757             1            2   \n",
       "\n",
       "   commissioning_year  source  total_generation  \n",
       "0         2011.000000     109          8.477243  \n",
       "1         1996.876894     174          8.477243  \n",
       "2         1996.876894      21          8.477243  \n",
       "3         2004.000000      22          7.131352  \n",
       "4         2015.000000      22          8.456347  "
      ]
     },
     "execution_count": 180,
     "metadata": {},
     "output_type": "execute_result"
    }
   ],
   "source": [
    "df_out.head()"
   ]
  },
  {
   "cell_type": "code",
   "execution_count": 181,
   "metadata": {},
   "outputs": [],
   "source": [
    "x1 = df_out.drop(columns=['capacity_mw'])\n",
    "y1 = df_out['capacity_mw']                 "
   ]
  },
  {
   "cell_type": "markdown",
   "metadata": {},
   "source": [
    "Splitting feature and target into x1 and y1 as feature and target respectively"
   ]
  },
  {
   "cell_type": "code",
   "execution_count": 183,
   "metadata": {},
   "outputs": [
    {
     "data": {
      "text/plain": [
       "array([[-1.73124082,  1.14657422, -0.91354085, ...,  1.09875973,\n",
       "         1.42661333,  0.34396308],\n",
       "       [-1.72743692,  0.58757199, -0.58584661, ...,  0.01334528,\n",
       "         2.86531811,  0.34396308],\n",
       "       [-1.72363301,  0.1193651 , -1.87350529, ...,  0.01334528,\n",
       "        -0.5211716 ,  0.34396308],\n",
       "       ...,\n",
       "       [ 1.71129098, -0.96474853, -0.35662174, ...,  0.01334528,\n",
       "        -0.5211716 ,  0.34396308],\n",
       "       [ 1.71509488,  0.51947958, -0.79142038, ...,  0.01334528,\n",
       "         0.31991735,  0.34396308],\n",
       "       [ 1.71889879, -1.8384185 ,  0.0821399 , ...,  0.01334528,\n",
       "        -0.5211716 ,  0.34396308]])"
      ]
     },
     "execution_count": 183,
     "metadata": {},
     "output_type": "execute_result"
    }
   ],
   "source": [
    "scaler_c=StandardScaler()\n",
    "x_scaler_c=scaler_c.fit_transform(x1)\n",
    "x_scaler_c"
   ]
  },
  {
   "cell_type": "markdown",
   "metadata": {},
   "source": [
    "# Finding best Random State"
   ]
  },
  {
   "cell_type": "code",
   "execution_count": 207,
   "metadata": {},
   "outputs": [],
   "source": [
    "# Importing important libraries for model fitting\n",
    "from sklearn.tree import DecisionTreeRegressor\n",
    "from sklearn.metrics import r2_score\n",
    "from sklearn.linear_model import LinearRegression\n",
    "from sklearn.ensemble import RandomForestRegressor\n",
    "from sklearn.model_selection import GridSearchCV,RandomizedSearchCV\n",
    "from sklearn.model_selection import KFold, cross_val_score\n",
    "from sklearn.linear_model import Ridge,Lasso,LassoCV,RidgeCV"
   ]
  },
  {
   "cell_type": "code",
   "execution_count": 185,
   "metadata": {},
   "outputs": [
    {
     "name": "stdout",
     "output_type": "stream",
     "text": [
      "Best r2 score is: 0.7871708510124651 On Random state:  702\n"
     ]
    }
   ],
   "source": [
    "maxscore = 0\n",
    "maxrs = 0\n",
    "\n",
    "for i in range(1,1000):\n",
    "    x1_train,x1_test,y1_train,y1_test = train_test_split(x_scaler_c,y1,test_size = 0.30,random_state = i)\n",
    "    dt = DecisionTreeRegressor()\n",
    "    dt.fit(x1_train,y1_train)\n",
    "    pred = dt.predict(x1_test)\n",
    "    rsc = r2_score(y1_test,pred)\n",
    "    if rsc>maxscore:\n",
    "        maxscore=rsc\n",
    "        maxrs=i\n",
    "print(\"Best r2 score is:\",maxscore,\"On Random state: \",maxrs)"
   ]
  },
  {
   "cell_type": "code",
   "execution_count": 186,
   "metadata": {},
   "outputs": [],
   "source": [
    "x1_train,x1_test,y1_train,y1_test=train_test_split(x_scaler_c,y1,test_size=0.30,random_state=i)"
   ]
  },
  {
   "cell_type": "code",
   "execution_count": 187,
   "metadata": {},
   "outputs": [
    {
     "name": "stdout",
     "output_type": "stream",
     "text": [
      "0.5498493363325013\n"
     ]
    }
   ],
   "source": [
    "lr = LinearRegression()\n",
    "lr.fit(x1_train,y1_train)\n",
    "pred = lr.predict(x1_test)\n",
    "print(r2_score(y1_test,pred))"
   ]
  },
  {
   "cell_type": "code",
   "execution_count": 188,
   "metadata": {},
   "outputs": [
    {
     "name": "stdout",
     "output_type": "stream",
     "text": [
      "0.45133392210398615\n"
     ]
    }
   ],
   "source": [
    "print(cross_val_score(lr,x_scaler_c,y1,cv=5).mean())"
   ]
  },
  {
   "cell_type": "code",
   "execution_count": 189,
   "metadata": {},
   "outputs": [
    {
     "name": "stdout",
     "output_type": "stream",
     "text": [
      "0.6006874406680596\n"
     ]
    }
   ],
   "source": [
    "dt = DecisionTreeRegressor()\n",
    "dt.fit(x1_train,y1_train)\n",
    "pred = dt.predict(x1_test)\n",
    "print(r2_score(y1_test,pred))"
   ]
  },
  {
   "cell_type": "code",
   "execution_count": 191,
   "metadata": {},
   "outputs": [
    {
     "name": "stdout",
     "output_type": "stream",
     "text": [
      "0.5731838844630683\n"
     ]
    }
   ],
   "source": [
    "print(cross_val_score(dt,x_scaler_c,y1,cv=5).mean())"
   ]
  },
  {
   "cell_type": "code",
   "execution_count": 192,
   "metadata": {},
   "outputs": [
    {
     "name": "stdout",
     "output_type": "stream",
     "text": [
      "0.7766746705633555\n"
     ]
    }
   ],
   "source": [
    "rf = RandomForestRegressor()\n",
    "rf.fit(x1_train,y1_train)\n",
    "pred = rf.predict(x1_test)\n",
    "print(r2_score(y1_test,pred))"
   ]
  },
  {
   "cell_type": "code",
   "execution_count": 193,
   "metadata": {},
   "outputs": [
    {
     "name": "stdout",
     "output_type": "stream",
     "text": [
      "0.7791669807739399\n"
     ]
    }
   ],
   "source": [
    "print(cross_val_score(rf,x_scaler_c,y1,cv=5).mean())"
   ]
  },
  {
   "cell_type": "markdown",
   "metadata": {},
   "source": [
    "Best model after comparing from cv score we got RandomForst as a best model so will do hyperparameter tuning on the same"
   ]
  },
  {
   "cell_type": "markdown",
   "metadata": {},
   "source": [
    "### Checking whether my model is overfitting model or not using lasso and ridge"
   ]
  },
  {
   "cell_type": "code",
   "execution_count": 194,
   "metadata": {},
   "outputs": [
    {
     "data": {
      "text/plain": [
       "LassoCV(normalize=True)"
      ]
     },
     "execution_count": 194,
     "metadata": {},
     "output_type": "execute_result"
    }
   ],
   "source": [
    "lassocv = LassoCV(alphas = None, max_iter=1000, normalize = True)\n",
    "lassocv.fit(x1_train,y1_train)"
   ]
  },
  {
   "cell_type": "code",
   "execution_count": 195,
   "metadata": {},
   "outputs": [
    {
     "data": {
      "text/plain": [
       "0.002357968387148837"
      ]
     },
     "execution_count": 195,
     "metadata": {},
     "output_type": "execute_result"
    }
   ],
   "source": [
    "alpha = lassocv.alpha_\n",
    "alpha"
   ]
  },
  {
   "cell_type": "code",
   "execution_count": 196,
   "metadata": {},
   "outputs": [
    {
     "data": {
      "text/plain": [
       "Lasso(alpha=0.002357968387148837)"
      ]
     },
     "execution_count": 196,
     "metadata": {},
     "output_type": "execute_result"
    }
   ],
   "source": [
    "lasso_reg = Lasso(alpha)\n",
    "lasso_reg.fit(x1_train,y1_train)"
   ]
  },
  {
   "cell_type": "code",
   "execution_count": 197,
   "metadata": {},
   "outputs": [
    {
     "data": {
      "text/plain": [
       "0.5489865379492984"
      ]
     },
     "execution_count": 197,
     "metadata": {},
     "output_type": "execute_result"
    }
   ],
   "source": [
    "lasso_reg.score(x1_test,y1_test)"
   ]
  },
  {
   "cell_type": "code",
   "execution_count": 198,
   "metadata": {},
   "outputs": [
    {
     "data": {
      "text/plain": [
       "RidgeCV(alphas=array([ 0.1,  1. , 10. ]), normalize=True)"
      ]
     },
     "execution_count": 198,
     "metadata": {},
     "output_type": "execute_result"
    }
   ],
   "source": [
    "ridgecv = RidgeCV(alphas =(0.1,1.0,10.0),normalize = True)\n",
    "ridgecv.fit(x1_train,y1_train)"
   ]
  },
  {
   "cell_type": "code",
   "execution_count": 199,
   "metadata": {},
   "outputs": [
    {
     "data": {
      "text/plain": [
       "0.1"
      ]
     },
     "execution_count": 199,
     "metadata": {},
     "output_type": "execute_result"
    }
   ],
   "source": [
    "alpha = ridgecv.alpha_\n",
    "alpha"
   ]
  },
  {
   "cell_type": "code",
   "execution_count": 200,
   "metadata": {},
   "outputs": [
    {
     "data": {
      "text/plain": [
       "Ridge(alpha=0.1)"
      ]
     },
     "execution_count": 200,
     "metadata": {},
     "output_type": "execute_result"
    }
   ],
   "source": [
    "ridge_reg = Ridge(alpha)\n",
    "ridge_reg.fit(x1_train,y1_train)"
   ]
  },
  {
   "cell_type": "code",
   "execution_count": 201,
   "metadata": {
    "scrolled": false
   },
   "outputs": [
    {
     "data": {
      "text/plain": [
       "0.5498294868763389"
      ]
     },
     "execution_count": 201,
     "metadata": {},
     "output_type": "execute_result"
    }
   ],
   "source": [
    "ridge_reg.score(x1_test,y1_test)"
   ]
  },
  {
   "cell_type": "markdown",
   "metadata": {},
   "source": [
    "Our model is not an overfitting model as checked via ridge and lasso getting almost same score as in linear regression"
   ]
  },
  {
   "cell_type": "markdown",
   "metadata": {},
   "source": [
    "# Hyperparameter Tuning"
   ]
  },
  {
   "cell_type": "code",
   "execution_count": 215,
   "metadata": {},
   "outputs": [],
   "source": [
    "# RandomForestRegressor\n",
    "param_r = {'n_estimators':[120,180,230,425,500,700],\n",
    "        'criterion':['mse','mae'],\n",
    "        'max_depth':[5,10,15,20,25,30],\n",
    "        'max_features':['auto','sqrt','log2'],\n",
    "          'min_samples_split':[2,5,10],\n",
    "          'min_samples_leaf':[2,4,6]}"
   ]
  },
  {
   "cell_type": "code",
   "execution_count": 216,
   "metadata": {},
   "outputs": [],
   "source": [
    "RF = RandomizedSearchCV(rf,param_r,cv=5)"
   ]
  },
  {
   "cell_type": "code",
   "execution_count": 217,
   "metadata": {
    "scrolled": false
   },
   "outputs": [
    {
     "data": {
      "text/plain": [
       "RandomizedSearchCV(cv=5, estimator=RandomForestRegressor(),\n",
       "                   param_distributions={'criterion': ['mse', 'mae'],\n",
       "                                        'max_depth': [5, 10, 15, 20, 25, 30],\n",
       "                                        'max_features': ['auto', 'sqrt',\n",
       "                                                         'log2'],\n",
       "                                        'min_samples_leaf': [2, 4, 6],\n",
       "                                        'min_samples_split': [2, 5, 10],\n",
       "                                        'n_estimators': [120, 180, 230, 425,\n",
       "                                                         500, 700]})"
      ]
     },
     "execution_count": 217,
     "metadata": {},
     "output_type": "execute_result"
    }
   ],
   "source": [
    "RF.fit(x1_train,y1_train)"
   ]
  },
  {
   "cell_type": "code",
   "execution_count": 218,
   "metadata": {
    "scrolled": true
   },
   "outputs": [
    {
     "data": {
      "text/plain": [
       "{'n_estimators': 425,\n",
       " 'min_samples_split': 10,\n",
       " 'min_samples_leaf': 2,\n",
       " 'max_features': 'auto',\n",
       " 'max_depth': 20,\n",
       " 'criterion': 'mse'}"
      ]
     },
     "execution_count": 218,
     "metadata": {},
     "output_type": "execute_result"
    }
   ],
   "source": [
    "RF.best_params_"
   ]
  },
  {
   "cell_type": "code",
   "execution_count": 219,
   "metadata": {},
   "outputs": [
    {
     "name": "stdout",
     "output_type": "stream",
     "text": [
      "72.72088460388814\n"
     ]
    }
   ],
   "source": [
    "final_RFC = RandomForestRegressor(min_samples_split = 10,min_samples_leaf = 2,criterion = 'mse',max_depth = 20, max_features = 'auto',n_estimators = 425)\n",
    "final_RFC.fit(x1_train,y1_train)\n",
    "pred = final_RFC.predict(x1_test)\n",
    "score = r2_score(pred,y1_test)\n",
    "print(score*100)"
   ]
  },
  {
   "cell_type": "markdown",
   "metadata": {},
   "source": [
    "Even after increasing parameter too score has been reduced compare to r2_score "
   ]
  },
  {
   "cell_type": "markdown",
   "metadata": {},
   "source": [
    "# Save the model"
   ]
  },
  {
   "cell_type": "code",
   "execution_count": 226,
   "metadata": {},
   "outputs": [
    {
     "data": {
      "text/plain": [
       "['FinalmodelGlobalpowerplant.pk1']"
      ]
     },
     "execution_count": 226,
     "metadata": {},
     "output_type": "execute_result"
    }
   ],
   "source": [
    "import joblib\n",
    "joblib.dump(final_rfc,'FinalmodelGlobalpowerplant.pk1')"
   ]
  },
  {
   "cell_type": "code",
   "execution_count": null,
   "metadata": {},
   "outputs": [],
   "source": []
  }
 ],
 "metadata": {
  "kernelspec": {
   "display_name": "Python 3",
   "language": "python",
   "name": "python3"
  },
  "language_info": {
   "codemirror_mode": {
    "name": "ipython",
    "version": 3
   },
   "file_extension": ".py",
   "mimetype": "text/x-python",
   "name": "python",
   "nbconvert_exporter": "python",
   "pygments_lexer": "ipython3",
   "version": "3.8.5"
  }
 },
 "nbformat": 4,
 "nbformat_minor": 4
}
